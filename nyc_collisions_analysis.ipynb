{
 "cells": [
  {
   "cell_type": "markdown",
   "metadata": {},
   "source": [
    "## Idea"
   ]
  },
  {
   "cell_type": "markdown",
   "metadata": {},
   "source": [
    "Using the data made available by the NYC Government as Open Data, trying to obtain some insights and understand if data confirms the usual assumptions."
   ]
  },
  {
   "cell_type": "markdown",
   "metadata": {},
   "source": [
    "<a id='table_of_contents'></a>\n",
    "\n",
    "0. [Import libraries](#imports)\n",
    "1. [Import data](#import_data)\n",
    "2. [Data exploration](#data_exploration)\n",
    "3. [Data cleaning](#data_cleaning)\n",
    "4. [Data_preparation](#data_preparation)\n",
    "5. [A final note](#final_note)"
   ]
  },
  {
   "cell_type": "markdown",
   "metadata": {},
   "source": [
    "## 0. Import packages <a id='imports'></a>\n",
    "[Back to top](#table_of_contents)"
   ]
  },
  {
   "cell_type": "code",
   "execution_count": 4,
   "metadata": {},
   "outputs": [],
   "source": [
    "import pandas as pd\n",
    "import numpy as np\n",
    "import re\n",
    "import seaborn as sns\n",
    "from geopy.geocoders import Nominatim\n",
    "from geopy.geocoders import GoogleV3"
   ]
  },
  {
   "cell_type": "markdown",
   "metadata": {},
   "source": [
    "## 1. Import data <a id='import_data'></a>\n",
    "[Back to top](#table_of_contents)"
   ]
  },
  {
   "cell_type": "code",
   "execution_count": 5,
   "metadata": {},
   "outputs": [],
   "source": [
    "data = pd.read_csv('data/Motor_Vehicle_Collisions_-_Crashes.csv',low_memory=False)"
   ]
  },
  {
   "cell_type": "code",
   "execution_count": 6,
   "metadata": {},
   "outputs": [
    {
     "name": "stdout",
     "output_type": "stream",
     "text": [
      "(1736981, 29)\n"
     ]
    },
    {
     "data": {
      "text/html": [
       "<div>\n",
       "<style scoped>\n",
       "    .dataframe tbody tr th:only-of-type {\n",
       "        vertical-align: middle;\n",
       "    }\n",
       "\n",
       "    .dataframe tbody tr th {\n",
       "        vertical-align: top;\n",
       "    }\n",
       "\n",
       "    .dataframe thead th {\n",
       "        text-align: right;\n",
       "    }\n",
       "</style>\n",
       "<table border=\"1\" class=\"dataframe\">\n",
       "  <thead>\n",
       "    <tr style=\"text-align: right;\">\n",
       "      <th></th>\n",
       "      <th>CRASH DATE</th>\n",
       "      <th>CRASH TIME</th>\n",
       "      <th>BOROUGH</th>\n",
       "      <th>ZIP CODE</th>\n",
       "      <th>LATITUDE</th>\n",
       "      <th>LONGITUDE</th>\n",
       "      <th>LOCATION</th>\n",
       "      <th>ON STREET NAME</th>\n",
       "      <th>CROSS STREET NAME</th>\n",
       "      <th>OFF STREET NAME</th>\n",
       "      <th>...</th>\n",
       "      <th>CONTRIBUTING FACTOR VEHICLE 2</th>\n",
       "      <th>CONTRIBUTING FACTOR VEHICLE 3</th>\n",
       "      <th>CONTRIBUTING FACTOR VEHICLE 4</th>\n",
       "      <th>CONTRIBUTING FACTOR VEHICLE 5</th>\n",
       "      <th>COLLISION_ID</th>\n",
       "      <th>VEHICLE TYPE CODE 1</th>\n",
       "      <th>VEHICLE TYPE CODE 2</th>\n",
       "      <th>VEHICLE TYPE CODE 3</th>\n",
       "      <th>VEHICLE TYPE CODE 4</th>\n",
       "      <th>VEHICLE TYPE CODE 5</th>\n",
       "    </tr>\n",
       "  </thead>\n",
       "  <tbody>\n",
       "    <tr>\n",
       "      <th>0</th>\n",
       "      <td>12/04/2020</td>\n",
       "      <td>16:55</td>\n",
       "      <td>NaN</td>\n",
       "      <td>NaN</td>\n",
       "      <td>NaN</td>\n",
       "      <td>NaN</td>\n",
       "      <td>NaN</td>\n",
       "      <td>WILLIAMSBURG BRIDGE OUTER ROADWA</td>\n",
       "      <td>NaN</td>\n",
       "      <td>NaN</td>\n",
       "      <td>...</td>\n",
       "      <td>Driver Inattention/Distraction</td>\n",
       "      <td>NaN</td>\n",
       "      <td>NaN</td>\n",
       "      <td>NaN</td>\n",
       "      <td>4373202</td>\n",
       "      <td>Sedan</td>\n",
       "      <td>Sedan</td>\n",
       "      <td>NaN</td>\n",
       "      <td>NaN</td>\n",
       "      <td>NaN</td>\n",
       "    </tr>\n",
       "    <tr>\n",
       "      <th>1</th>\n",
       "      <td>12/04/2020</td>\n",
       "      <td>9:16</td>\n",
       "      <td>NaN</td>\n",
       "      <td>NaN</td>\n",
       "      <td>NaN</td>\n",
       "      <td>NaN</td>\n",
       "      <td>NaN</td>\n",
       "      <td>TRIBOROUGH BRIDGE</td>\n",
       "      <td>NaN</td>\n",
       "      <td>NaN</td>\n",
       "      <td>...</td>\n",
       "      <td>Unsafe Speed</td>\n",
       "      <td>NaN</td>\n",
       "      <td>NaN</td>\n",
       "      <td>NaN</td>\n",
       "      <td>4373670</td>\n",
       "      <td>Sedan</td>\n",
       "      <td>NaN</td>\n",
       "      <td>NaN</td>\n",
       "      <td>NaN</td>\n",
       "      <td>NaN</td>\n",
       "    </tr>\n",
       "    <tr>\n",
       "      <th>2</th>\n",
       "      <td>12/03/2020</td>\n",
       "      <td>13:37</td>\n",
       "      <td>NaN</td>\n",
       "      <td>NaN</td>\n",
       "      <td>40.798504</td>\n",
       "      <td>-73.967125</td>\n",
       "      <td>(40.798504, -73.967125)</td>\n",
       "      <td>WEST 103 STREET</td>\n",
       "      <td>NaN</td>\n",
       "      <td>NaN</td>\n",
       "      <td>...</td>\n",
       "      <td>NaN</td>\n",
       "      <td>NaN</td>\n",
       "      <td>NaN</td>\n",
       "      <td>NaN</td>\n",
       "      <td>4373072</td>\n",
       "      <td>NaN</td>\n",
       "      <td>NaN</td>\n",
       "      <td>NaN</td>\n",
       "      <td>NaN</td>\n",
       "      <td>NaN</td>\n",
       "    </tr>\n",
       "    <tr>\n",
       "      <th>3</th>\n",
       "      <td>12/03/2020</td>\n",
       "      <td>9:05</td>\n",
       "      <td>NaN</td>\n",
       "      <td>NaN</td>\n",
       "      <td>NaN</td>\n",
       "      <td>NaN</td>\n",
       "      <td>NaN</td>\n",
       "      <td>TRIBOROUGH BRIDGE</td>\n",
       "      <td>NaN</td>\n",
       "      <td>NaN</td>\n",
       "      <td>...</td>\n",
       "      <td>NaN</td>\n",
       "      <td>NaN</td>\n",
       "      <td>NaN</td>\n",
       "      <td>NaN</td>\n",
       "      <td>4372904</td>\n",
       "      <td>Sedan</td>\n",
       "      <td>NaN</td>\n",
       "      <td>NaN</td>\n",
       "      <td>NaN</td>\n",
       "      <td>NaN</td>\n",
       "    </tr>\n",
       "    <tr>\n",
       "      <th>4</th>\n",
       "      <td>12/02/2020</td>\n",
       "      <td>13:29</td>\n",
       "      <td>NaN</td>\n",
       "      <td>NaN</td>\n",
       "      <td>NaN</td>\n",
       "      <td>NaN</td>\n",
       "      <td>NaN</td>\n",
       "      <td>CHURCH AVENUE</td>\n",
       "      <td>OCEAN PARKWAY</td>\n",
       "      <td>NaN</td>\n",
       "      <td>...</td>\n",
       "      <td>NaN</td>\n",
       "      <td>NaN</td>\n",
       "      <td>NaN</td>\n",
       "      <td>NaN</td>\n",
       "      <td>4373367</td>\n",
       "      <td>Bus</td>\n",
       "      <td>NaN</td>\n",
       "      <td>NaN</td>\n",
       "      <td>NaN</td>\n",
       "      <td>NaN</td>\n",
       "    </tr>\n",
       "  </tbody>\n",
       "</table>\n",
       "<p>5 rows × 29 columns</p>\n",
       "</div>"
      ],
      "text/plain": [
       "   CRASH DATE CRASH TIME BOROUGH ZIP CODE   LATITUDE  LONGITUDE  \\\n",
       "0  12/04/2020      16:55     NaN      NaN        NaN        NaN   \n",
       "1  12/04/2020       9:16     NaN      NaN        NaN        NaN   \n",
       "2  12/03/2020      13:37     NaN      NaN  40.798504 -73.967125   \n",
       "3  12/03/2020       9:05     NaN      NaN        NaN        NaN   \n",
       "4  12/02/2020      13:29     NaN      NaN        NaN        NaN   \n",
       "\n",
       "                  LOCATION                    ON STREET NAME  \\\n",
       "0                      NaN  WILLIAMSBURG BRIDGE OUTER ROADWA   \n",
       "1                      NaN  TRIBOROUGH BRIDGE                  \n",
       "2  (40.798504, -73.967125)  WEST 103 STREET                    \n",
       "3                      NaN  TRIBOROUGH BRIDGE                  \n",
       "4                      NaN  CHURCH AVENUE                      \n",
       "\n",
       "  CROSS STREET NAME OFF STREET NAME  ...   CONTRIBUTING FACTOR VEHICLE 2  \\\n",
       "0               NaN             NaN  ...  Driver Inattention/Distraction   \n",
       "1               NaN             NaN  ...                    Unsafe Speed   \n",
       "2               NaN             NaN  ...                             NaN   \n",
       "3               NaN             NaN  ...                             NaN   \n",
       "4     OCEAN PARKWAY             NaN  ...                             NaN   \n",
       "\n",
       "   CONTRIBUTING FACTOR VEHICLE 3  CONTRIBUTING FACTOR VEHICLE 4  \\\n",
       "0                            NaN                            NaN   \n",
       "1                            NaN                            NaN   \n",
       "2                            NaN                            NaN   \n",
       "3                            NaN                            NaN   \n",
       "4                            NaN                            NaN   \n",
       "\n",
       "   CONTRIBUTING FACTOR VEHICLE 5  COLLISION_ID  VEHICLE TYPE CODE 1  \\\n",
       "0                            NaN       4373202                Sedan   \n",
       "1                            NaN       4373670                Sedan   \n",
       "2                            NaN       4373072                  NaN   \n",
       "3                            NaN       4372904                Sedan   \n",
       "4                            NaN       4373367                  Bus   \n",
       "\n",
       "   VEHICLE TYPE CODE 2  VEHICLE TYPE CODE 3 VEHICLE TYPE CODE 4  \\\n",
       "0                Sedan                  NaN                 NaN   \n",
       "1                  NaN                  NaN                 NaN   \n",
       "2                  NaN                  NaN                 NaN   \n",
       "3                  NaN                  NaN                 NaN   \n",
       "4                  NaN                  NaN                 NaN   \n",
       "\n",
       "  VEHICLE TYPE CODE 5  \n",
       "0                 NaN  \n",
       "1                 NaN  \n",
       "2                 NaN  \n",
       "3                 NaN  \n",
       "4                 NaN  \n",
       "\n",
       "[5 rows x 29 columns]"
      ]
     },
     "execution_count": 6,
     "metadata": {},
     "output_type": "execute_result"
    }
   ],
   "source": [
    "print(data.shape)\n",
    "data.head()"
   ]
  },
  {
   "cell_type": "markdown",
   "metadata": {},
   "source": [
    "## 2. Data exploration <a id='data_exploration'></a>\n",
    "[Back to top](#table_of_contents)"
   ]
  },
  {
   "cell_type": "code",
   "execution_count": 7,
   "metadata": {},
   "outputs": [
    {
     "data": {
      "text/plain": [
       "CRASH DATE                             0\n",
       "CRASH TIME                             0\n",
       "BOROUGH                           532467\n",
       "ZIP CODE                          532677\n",
       "LATITUDE                          206846\n",
       "LONGITUDE                         206846\n",
       "LOCATION                          206846\n",
       "ON STREET NAME                    348229\n",
       "CROSS STREET NAME                 605787\n",
       "OFF STREET NAME                  1481120\n",
       "NUMBER OF PERSONS INJURED             17\n",
       "NUMBER OF PERSONS KILLED              31\n",
       "NUMBER OF PEDESTRIANS INJURED          0\n",
       "NUMBER OF PEDESTRIANS KILLED           0\n",
       "NUMBER OF CYCLIST INJURED              0\n",
       "NUMBER OF CYCLIST KILLED               0\n",
       "NUMBER OF MOTORIST INJURED             0\n",
       "NUMBER OF MOTORIST KILLED              0\n",
       "CONTRIBUTING FACTOR VEHICLE 1       4819\n",
       "CONTRIBUTING FACTOR VEHICLE 2     243174\n",
       "CONTRIBUTING FACTOR VEHICLE 3    1621519\n",
       "CONTRIBUTING FACTOR VEHICLE 4    1712319\n",
       "CONTRIBUTING FACTOR VEHICLE 5    1730559\n",
       "COLLISION_ID                           0\n",
       "VEHICLE TYPE CODE 1                 8966\n",
       "VEHICLE TYPE CODE 2               282470\n",
       "VEHICLE TYPE CODE 3              1624565\n",
       "VEHICLE TYPE CODE 4              1712998\n",
       "VEHICLE TYPE CODE 5              1730731\n",
       "dtype: int64"
      ]
     },
     "execution_count": 7,
     "metadata": {},
     "output_type": "execute_result"
    }
   ],
   "source": [
    "data.isna().sum()"
   ]
  },
  {
   "cell_type": "markdown",
   "metadata": {},
   "source": [
    "columns that could be removed for lack of data points:\n",
    "\n",
    "__'OFF STREET NAME','CONTRIBUTING FACTOR VEHICLE 3','CONTRIBUTING FACTOR VEHICLE 4','CONTRIBUTING FACTOR VEHICLE 5','VEHICLE TYPE CODE 3','VEHICLE TYPE CODE 4','VEHICLE TYPE CODE 5'__\n"
   ]
  },
  {
   "cell_type": "code",
   "execution_count": 8,
   "metadata": {},
   "outputs": [
    {
     "data": {
      "text/plain": [
       "1736981"
      ]
     },
     "execution_count": 8,
     "metadata": {},
     "output_type": "execute_result"
    }
   ],
   "source": [
    "data['COLLISION_ID'].nunique()"
   ]
  },
  {
   "cell_type": "markdown",
   "metadata": {},
   "source": [
    "__'COLLISION_ID'__ could be removed because it doesn't add any value ot to the rest of the data"
   ]
  },
  {
   "cell_type": "code",
   "execution_count": 9,
   "metadata": {},
   "outputs": [
    {
     "data": {
      "text/plain": [
       "CRASH DATE                        object\n",
       "CRASH TIME                        object\n",
       "BOROUGH                           object\n",
       "ZIP CODE                          object\n",
       "LATITUDE                         float64\n",
       "LONGITUDE                        float64\n",
       "LOCATION                          object\n",
       "ON STREET NAME                    object\n",
       "CROSS STREET NAME                 object\n",
       "OFF STREET NAME                   object\n",
       "NUMBER OF PERSONS INJURED        float64\n",
       "NUMBER OF PERSONS KILLED         float64\n",
       "NUMBER OF PEDESTRIANS INJURED      int64\n",
       "NUMBER OF PEDESTRIANS KILLED       int64\n",
       "NUMBER OF CYCLIST INJURED          int64\n",
       "NUMBER OF CYCLIST KILLED           int64\n",
       "NUMBER OF MOTORIST INJURED         int64\n",
       "NUMBER OF MOTORIST KILLED          int64\n",
       "CONTRIBUTING FACTOR VEHICLE 1     object\n",
       "CONTRIBUTING FACTOR VEHICLE 2     object\n",
       "CONTRIBUTING FACTOR VEHICLE 3     object\n",
       "CONTRIBUTING FACTOR VEHICLE 4     object\n",
       "CONTRIBUTING FACTOR VEHICLE 5     object\n",
       "COLLISION_ID                       int64\n",
       "VEHICLE TYPE CODE 1               object\n",
       "VEHICLE TYPE CODE 2               object\n",
       "VEHICLE TYPE CODE 3               object\n",
       "VEHICLE TYPE CODE 4               object\n",
       "VEHICLE TYPE CODE 5               object\n",
       "dtype: object"
      ]
     },
     "execution_count": 9,
     "metadata": {},
     "output_type": "execute_result"
    }
   ],
   "source": [
    "data.dtypes"
   ]
  },
  {
   "cell_type": "code",
   "execution_count": 10,
   "metadata": {},
   "outputs": [
    {
     "data": {
      "image/png": "[encoded data removed]",
      "text/plain": [
       "<Figure size 1440x720 with 12 Axes>"
      ]
     },
     "metadata": {
      "needs_background": "light"
     },
     "output_type": "display_data"
    }
   ],
   "source": [
    "data.hist(figsize=(20,10),bins=50);"
   ]
  },
  {
   "cell_type": "code",
   "execution_count": 11,
   "metadata": {},
   "outputs": [
    {
     "data": {
      "text/plain": [
       "count    1.736950e+06\n",
       "mean     1.241832e-03\n",
       "std      3.728241e-02\n",
       "min      0.000000e+00\n",
       "25%      0.000000e+00\n",
       "50%      0.000000e+00\n",
       "75%      0.000000e+00\n",
       "max      8.000000e+00\n",
       "Name: NUMBER OF PERSONS KILLED, dtype: float64"
      ]
     },
     "execution_count": 11,
     "metadata": {},
     "output_type": "execute_result"
    }
   ],
   "source": [
    "data['NUMBER OF PERSONS KILLED'].describe()"
   ]
  },
  {
   "cell_type": "code",
   "execution_count": 12,
   "metadata": {
    "scrolled": true
   },
   "outputs": [
    {
     "data": {
      "text/plain": [
       "(2008, 29)"
      ]
     },
     "execution_count": 12,
     "metadata": {},
     "output_type": "execute_result"
    }
   ],
   "source": [
    "data[data['NUMBER OF PERSONS KILLED']==1].shape"
   ]
  },
  {
   "cell_type": "code",
   "execution_count": 13,
   "metadata": {
    "scrolled": true
   },
   "outputs": [
    {
     "data": {
      "text/plain": [
       "(50, 29)"
      ]
     },
     "execution_count": 13,
     "metadata": {},
     "output_type": "execute_result"
    }
   ],
   "source": [
    "data[data['NUMBER OF PERSONS KILLED']==2].shape"
   ]
  },
  {
   "cell_type": "code",
   "execution_count": 14,
   "metadata": {},
   "outputs": [
    {
     "data": {
      "text/plain": [
       "(1112, 29)"
      ]
     },
     "execution_count": 14,
     "metadata": {},
     "output_type": "execute_result"
    }
   ],
   "source": [
    "data[data['NUMBER OF PEDESTRIANS KILLED']==1].shape"
   ]
  },
  {
   "cell_type": "code",
   "execution_count": 15,
   "metadata": {},
   "outputs": [
    {
     "data": {
      "text/plain": [
       "(10, 29)"
      ]
     },
     "execution_count": 15,
     "metadata": {},
     "output_type": "execute_result"
    }
   ],
   "source": [
    "data[data['NUMBER OF PEDESTRIANS KILLED']==2].shape"
   ]
  },
  {
   "cell_type": "code",
   "execution_count": 16,
   "metadata": {},
   "outputs": [
    {
     "data": {
      "text/plain": [
       "(741, 29)"
      ]
     },
     "execution_count": 16,
     "metadata": {},
     "output_type": "execute_result"
    }
   ],
   "source": [
    "data[data['NUMBER OF MOTORIST KILLED']==1].shape"
   ]
  },
  {
   "cell_type": "code",
   "execution_count": 17,
   "metadata": {},
   "outputs": [
    {
     "data": {
      "text/plain": [
       "(38, 29)"
      ]
     },
     "execution_count": 17,
     "metadata": {},
     "output_type": "execute_result"
    }
   ],
   "source": [
    "data[data['NUMBER OF MOTORIST KILLED']==2].shape"
   ]
  },
  {
   "cell_type": "code",
   "execution_count": 18,
   "metadata": {},
   "outputs": [
    {
     "data": {
      "text/plain": [
       "(161, 29)"
      ]
     },
     "execution_count": 18,
     "metadata": {},
     "output_type": "execute_result"
    }
   ],
   "source": [
    "data[data['NUMBER OF CYCLIST KILLED']==1].shape"
   ]
  },
  {
   "cell_type": "code",
   "execution_count": 19,
   "metadata": {},
   "outputs": [
    {
     "data": {
      "text/plain": [
       "(1, 29)"
      ]
     },
     "execution_count": 19,
     "metadata": {},
     "output_type": "execute_result"
    }
   ],
   "source": [
    "data[data['NUMBER OF CYCLIST KILLED']==2].shape"
   ]
  },
  {
   "cell_type": "markdown",
   "metadata": {},
   "source": [
    "How many rows contain a number of person injured bigger than 2?"
   ]
  },
  {
   "cell_type": "code",
   "execution_count": 20,
   "metadata": {},
   "outputs": [
    {
     "data": {
      "text/plain": [
       "(27506, 29)"
      ]
     },
     "execution_count": 20,
     "metadata": {},
     "output_type": "execute_result"
    }
   ],
   "source": [
    "data[data['NUMBER OF PERSONS INJURED']>2].shape"
   ]
  },
  {
   "cell_type": "markdown",
   "metadata": {},
   "source": [
    "maybe also these 27K rows could be removed"
   ]
  },
  {
   "cell_type": "markdown",
   "metadata": {},
   "source": [
    "most of the contributing factors are _unspecified_"
   ]
  },
  {
   "cell_type": "code",
   "execution_count": 21,
   "metadata": {},
   "outputs": [
    {
     "data": {
      "text/plain": [
       "Unspecified                       624121\n",
       "Driver Inattention/Distraction    332243\n",
       "Failure to Yield Right-of-Way      99925\n",
       "Following Too Closely              89136\n",
       "Backing Unsafely                   66240\n",
       "Other Vehicular                    54931\n",
       "Fatigued/Drowsy                    47003\n",
       "Turning Improperly                 43576\n",
       "Passing or Lane Usage Improper     42858\n",
       "Passing Too Closely                39284\n",
       "Unsafe Lane Changing               33844\n",
       "Traffic Control Disregarded        27229\n",
       "Driver Inexperience                25791\n",
       "Lost Consciousness                 19836\n",
       "Pavement Slippery                  17030\n",
       "Alcohol Involvement                16944\n",
       "Unsafe Speed                       16771\n",
       "Reaction to Uninvolved Vehicle     15785\n",
       "Prescription Medication            15363\n",
       "Outside Car Distraction            12063\n",
       "Name: CONTRIBUTING FACTOR VEHICLE 1, dtype: int64"
      ]
     },
     "execution_count": 21,
     "metadata": {},
     "output_type": "execute_result"
    }
   ],
   "source": [
    "data['CONTRIBUTING FACTOR VEHICLE 1'].value_counts()[0:20]"
   ]
  },
  {
   "cell_type": "markdown",
   "metadata": {},
   "source": [
    "too many _vehicle type codes_"
   ]
  },
  {
   "cell_type": "code",
   "execution_count": 22,
   "metadata": {},
   "outputs": [
    {
     "data": {
      "text/plain": [
       "Sedan                                  418540\n",
       "PASSENGER VEHICLE                      416206\n",
       "Station Wagon/Sport Utility Vehicle    335582\n",
       "SPORT UTILITY / STATION WAGON          180291\n",
       "Taxi                                    42826\n",
       "4 dr sedan                              39998\n",
       "TAXI                                    31911\n",
       "Pick-up Truck                           27429\n",
       "VAN                                     25266\n",
       "OTHER                                   22965\n",
       "UNKNOWN                                 19924\n",
       "Box Truck                               18687\n",
       "Bus                                     15564\n",
       "LARGE COM VEH(6 OR MORE TIRES)          14397\n",
       "BUS                                     13993\n",
       "SMALL COM VEH(4 TIRES)                  13216\n",
       "PICK-UP TRUCK                           11505\n",
       "LIVERY VEHICLE                          10481\n",
       "Bike                                     9670\n",
       "Tractor Truck Diesel                     7909\n",
       "Name: VEHICLE TYPE CODE 1, dtype: int64"
      ]
     },
     "execution_count": 22,
     "metadata": {},
     "output_type": "execute_result"
    }
   ],
   "source": [
    "data['VEHICLE TYPE CODE 1'].value_counts()[0:20]"
   ]
  },
  {
   "cell_type": "markdown",
   "metadata": {},
   "source": [
    "## 3. Data cleaning <a id='data_cleaning'></a>\n",
    "[Back to top](#table_of_contents)"
   ]
  },
  {
   "cell_type": "code",
   "execution_count": 23,
   "metadata": {},
   "outputs": [],
   "source": [
    "data_cleaning = data.copy()"
   ]
  },
  {
   "cell_type": "markdown",
   "metadata": {},
   "source": [
    "removing columns which are not needed"
   ]
  },
  {
   "cell_type": "code",
   "execution_count": 24,
   "metadata": {},
   "outputs": [],
   "source": [
    "data_cleaning.drop(columns=['OFF STREET NAME','CONTRIBUTING FACTOR VEHICLE 3','CONTRIBUTING FACTOR VEHICLE 4',\n",
    "                                'CONTRIBUTING FACTOR VEHICLE 5','VEHICLE TYPE CODE 3','VEHICLE TYPE CODE 4',\n",
    "                                'VEHICLE TYPE CODE 5','CROSS STREET NAME','COLLISION_ID',\n",
    "                           'ZIP CODE','CONTRIBUTING FACTOR VEHICLE 2','VEHICLE TYPE CODE 2'],inplace=True)"
   ]
  },
  {
   "cell_type": "code",
   "execution_count": 25,
   "metadata": {},
   "outputs": [
    {
     "name": "stdout",
     "output_type": "stream",
     "text": [
      "(1736981, 17)\n"
     ]
    },
    {
     "data": {
      "text/html": [
       "<div>\n",
       "<style scoped>\n",
       "    .dataframe tbody tr th:only-of-type {\n",
       "        vertical-align: middle;\n",
       "    }\n",
       "\n",
       "    .dataframe tbody tr th {\n",
       "        vertical-align: top;\n",
       "    }\n",
       "\n",
       "    .dataframe thead th {\n",
       "        text-align: right;\n",
       "    }\n",
       "</style>\n",
       "<table border=\"1\" class=\"dataframe\">\n",
       "  <thead>\n",
       "    <tr style=\"text-align: right;\">\n",
       "      <th></th>\n",
       "      <th>CRASH DATE</th>\n",
       "      <th>CRASH TIME</th>\n",
       "      <th>BOROUGH</th>\n",
       "      <th>LATITUDE</th>\n",
       "      <th>LONGITUDE</th>\n",
       "      <th>LOCATION</th>\n",
       "      <th>ON STREET NAME</th>\n",
       "      <th>NUMBER OF PERSONS INJURED</th>\n",
       "      <th>NUMBER OF PERSONS KILLED</th>\n",
       "      <th>NUMBER OF PEDESTRIANS INJURED</th>\n",
       "      <th>NUMBER OF PEDESTRIANS KILLED</th>\n",
       "      <th>NUMBER OF CYCLIST INJURED</th>\n",
       "      <th>NUMBER OF CYCLIST KILLED</th>\n",
       "      <th>NUMBER OF MOTORIST INJURED</th>\n",
       "      <th>NUMBER OF MOTORIST KILLED</th>\n",
       "      <th>CONTRIBUTING FACTOR VEHICLE 1</th>\n",
       "      <th>VEHICLE TYPE CODE 1</th>\n",
       "    </tr>\n",
       "  </thead>\n",
       "  <tbody>\n",
       "    <tr>\n",
       "      <th>0</th>\n",
       "      <td>12/04/2020</td>\n",
       "      <td>16:55</td>\n",
       "      <td>NaN</td>\n",
       "      <td>NaN</td>\n",
       "      <td>NaN</td>\n",
       "      <td>NaN</td>\n",
       "      <td>WILLIAMSBURG BRIDGE OUTER ROADWA</td>\n",
       "      <td>0.0</td>\n",
       "      <td>0.0</td>\n",
       "      <td>0</td>\n",
       "      <td>0</td>\n",
       "      <td>0</td>\n",
       "      <td>0</td>\n",
       "      <td>0</td>\n",
       "      <td>0</td>\n",
       "      <td>Reaction to Uninvolved Vehicle</td>\n",
       "      <td>Sedan</td>\n",
       "    </tr>\n",
       "    <tr>\n",
       "      <th>1</th>\n",
       "      <td>12/04/2020</td>\n",
       "      <td>9:16</td>\n",
       "      <td>NaN</td>\n",
       "      <td>NaN</td>\n",
       "      <td>NaN</td>\n",
       "      <td>NaN</td>\n",
       "      <td>TRIBOROUGH BRIDGE</td>\n",
       "      <td>0.0</td>\n",
       "      <td>0.0</td>\n",
       "      <td>0</td>\n",
       "      <td>0</td>\n",
       "      <td>0</td>\n",
       "      <td>0</td>\n",
       "      <td>0</td>\n",
       "      <td>0</td>\n",
       "      <td>Reaction to Uninvolved Vehicle</td>\n",
       "      <td>Sedan</td>\n",
       "    </tr>\n",
       "    <tr>\n",
       "      <th>2</th>\n",
       "      <td>12/03/2020</td>\n",
       "      <td>13:37</td>\n",
       "      <td>NaN</td>\n",
       "      <td>40.798504</td>\n",
       "      <td>-73.967125</td>\n",
       "      <td>(40.798504, -73.967125)</td>\n",
       "      <td>WEST 103 STREET</td>\n",
       "      <td>1.0</td>\n",
       "      <td>0.0</td>\n",
       "      <td>1</td>\n",
       "      <td>0</td>\n",
       "      <td>0</td>\n",
       "      <td>0</td>\n",
       "      <td>0</td>\n",
       "      <td>0</td>\n",
       "      <td>NaN</td>\n",
       "      <td>NaN</td>\n",
       "    </tr>\n",
       "  </tbody>\n",
       "</table>\n",
       "</div>"
      ],
      "text/plain": [
       "   CRASH DATE CRASH TIME BOROUGH   LATITUDE  LONGITUDE  \\\n",
       "0  12/04/2020      16:55     NaN        NaN        NaN   \n",
       "1  12/04/2020       9:16     NaN        NaN        NaN   \n",
       "2  12/03/2020      13:37     NaN  40.798504 -73.967125   \n",
       "\n",
       "                  LOCATION                    ON STREET NAME  \\\n",
       "0                      NaN  WILLIAMSBURG BRIDGE OUTER ROADWA   \n",
       "1                      NaN  TRIBOROUGH BRIDGE                  \n",
       "2  (40.798504, -73.967125)  WEST 103 STREET                    \n",
       "\n",
       "   NUMBER OF PERSONS INJURED  NUMBER OF PERSONS KILLED  \\\n",
       "0                        0.0                       0.0   \n",
       "1                        0.0                       0.0   \n",
       "2                        1.0                       0.0   \n",
       "\n",
       "   NUMBER OF PEDESTRIANS INJURED  NUMBER OF PEDESTRIANS KILLED  \\\n",
       "0                              0                             0   \n",
       "1                              0                             0   \n",
       "2                              1                             0   \n",
       "\n",
       "   NUMBER OF CYCLIST INJURED  NUMBER OF CYCLIST KILLED  \\\n",
       "0                          0                         0   \n",
       "1                          0                         0   \n",
       "2                          0                         0   \n",
       "\n",
       "   NUMBER OF MOTORIST INJURED  NUMBER OF MOTORIST KILLED  \\\n",
       "0                           0                          0   \n",
       "1                           0                          0   \n",
       "2                           0                          0   \n",
       "\n",
       "    CONTRIBUTING FACTOR VEHICLE 1 VEHICLE TYPE CODE 1  \n",
       "0  Reaction to Uninvolved Vehicle               Sedan  \n",
       "1  Reaction to Uninvolved Vehicle               Sedan  \n",
       "2                             NaN                 NaN  "
      ]
     },
     "execution_count": 25,
     "metadata": {},
     "output_type": "execute_result"
    }
   ],
   "source": [
    "print(data_cleaning.shape)\n",
    "data_cleaning.head(3)"
   ]
  },
  {
   "cell_type": "markdown",
   "metadata": {},
   "source": [
    "filtering values where __LOCATION__ is not null"
   ]
  },
  {
   "cell_type": "code",
   "execution_count": 26,
   "metadata": {},
   "outputs": [
    {
     "data": {
      "text/plain": [
       "(1530135, 17)"
      ]
     },
     "execution_count": 26,
     "metadata": {},
     "output_type": "execute_result"
    }
   ],
   "source": [
    "data_cleaning = data_cleaning[pd.notnull(data_cleaning['LOCATION'])]\n",
    "data_cleaning.shape"
   ]
  },
  {
   "cell_type": "code",
   "execution_count": 27,
   "metadata": {},
   "outputs": [],
   "source": [
    "data_cleaning = data_cleaning.reset_index(drop=True)"
   ]
  },
  {
   "cell_type": "markdown",
   "metadata": {},
   "source": [
    "filling missing values where missing with _ffill_ and _bfill_"
   ]
  },
  {
   "cell_type": "code",
   "execution_count": 28,
   "metadata": {},
   "outputs": [],
   "source": [
    "data_cleaning['NUMBER OF PERSONS KILLED'] = data_cleaning['NUMBER OF PERSONS KILLED'].ffill()\n",
    "data_cleaning['NUMBER OF PERSONS INJURED'] = data_cleaning['NUMBER OF PERSONS INJURED'].ffill()\n",
    "data_cleaning['NUMBER OF PERSONS INJURED'] = data_cleaning['NUMBER OF PERSONS INJURED'].astype(int)"
   ]
  },
  {
   "cell_type": "code",
   "execution_count": 29,
   "metadata": {},
   "outputs": [
    {
     "data": {
      "text/plain": [
       "CRASH DATE                            0\n",
       "CRASH TIME                            0\n",
       "BOROUGH                          356759\n",
       "LATITUDE                              0\n",
       "LONGITUDE                             0\n",
       "LOCATION                              0\n",
       "ON STREET NAME                   295181\n",
       "NUMBER OF PERSONS INJURED             0\n",
       "NUMBER OF PERSONS KILLED              0\n",
       "NUMBER OF PEDESTRIANS INJURED         0\n",
       "NUMBER OF PEDESTRIANS KILLED          0\n",
       "NUMBER OF CYCLIST INJURED             0\n",
       "NUMBER OF CYCLIST KILLED              0\n",
       "NUMBER OF MOTORIST INJURED            0\n",
       "NUMBER OF MOTORIST KILLED             0\n",
       "CONTRIBUTING FACTOR VEHICLE 1      4322\n",
       "VEHICLE TYPE CODE 1                8020\n",
       "dtype: int64"
      ]
     },
     "execution_count": 29,
     "metadata": {},
     "output_type": "execute_result"
    }
   ],
   "source": [
    "data_cleaning.isna().sum()"
   ]
  },
  {
   "cell_type": "code",
   "execution_count": 30,
   "metadata": {},
   "outputs": [
    {
     "data": {
      "text/plain": [
       "CRASH DATE                        object\n",
       "CRASH TIME                        object\n",
       "BOROUGH                           object\n",
       "LATITUDE                         float64\n",
       "LONGITUDE                        float64\n",
       "LOCATION                          object\n",
       "ON STREET NAME                    object\n",
       "NUMBER OF PERSONS INJURED          int64\n",
       "NUMBER OF PERSONS KILLED         float64\n",
       "NUMBER OF PEDESTRIANS INJURED      int64\n",
       "NUMBER OF PEDESTRIANS KILLED       int64\n",
       "NUMBER OF CYCLIST INJURED          int64\n",
       "NUMBER OF CYCLIST KILLED           int64\n",
       "NUMBER OF MOTORIST INJURED         int64\n",
       "NUMBER OF MOTORIST KILLED          int64\n",
       "CONTRIBUTING FACTOR VEHICLE 1     object\n",
       "VEHICLE TYPE CODE 1               object\n",
       "dtype: object"
      ]
     },
     "execution_count": 30,
     "metadata": {},
     "output_type": "execute_result"
    }
   ],
   "source": [
    "data_cleaning.dtypes"
   ]
  },
  {
   "cell_type": "markdown",
   "metadata": {},
   "source": [
    "keeping only data points where the _NUMBER OF PERSONS INJURED_ is equal or below __2__"
   ]
  },
  {
   "cell_type": "code",
   "execution_count": 31,
   "metadata": {},
   "outputs": [],
   "source": [
    "data_cleaning = data_cleaning[data_cleaning['NUMBER OF PERSONS INJURED']<=2]"
   ]
  },
  {
   "cell_type": "code",
   "execution_count": 32,
   "metadata": {},
   "outputs": [],
   "source": [
    "data_cleaning.drop(columns=['LOCATION'],inplace=True)"
   ]
  },
  {
   "cell_type": "code",
   "execution_count": 33,
   "metadata": {},
   "outputs": [
    {
     "data": {
      "text/plain": [
       "(1506315, 16)"
      ]
     },
     "execution_count": 33,
     "metadata": {},
     "output_type": "execute_result"
    }
   ],
   "source": [
    "data_cleaning.shape"
   ]
  },
  {
   "cell_type": "markdown",
   "metadata": {},
   "source": [
    "## 4. Data preparation <a id='data_preparation'></a>\n",
    "[Back to top](#table_of_contents)"
   ]
  },
  {
   "cell_type": "code",
   "execution_count": 34,
   "metadata": {},
   "outputs": [],
   "source": [
    "data_preparation = data_cleaning.copy()"
   ]
  },
  {
   "cell_type": "code",
   "execution_count": 35,
   "metadata": {},
   "outputs": [],
   "source": [
    "# data_preparation['COLLISION_ID'] = data_preparation['COLLISION_ID'].astype(str)"
   ]
  },
  {
   "cell_type": "markdown",
   "metadata": {},
   "source": [
    "lowering the string values, reducing the possible duplicates"
   ]
  },
  {
   "cell_type": "code",
   "execution_count": 36,
   "metadata": {},
   "outputs": [],
   "source": [
    "data_preparation.loc[:,'CONTRIBUTING FACTOR VEHICLE 1'] = data_preparation.loc[:,'CONTRIBUTING FACTOR VEHICLE 1'].str.lower()\n",
    "data_preparation.loc[:,'VEHICLE TYPE CODE 1'] = data_preparation.loc[:,'VEHICLE TYPE CODE 1'].str.lower()"
   ]
  },
  {
   "cell_type": "code",
   "execution_count": 37,
   "metadata": {},
   "outputs": [
    {
     "data": {
      "text/html": [
       "<div>\n",
       "<style scoped>\n",
       "    .dataframe tbody tr th:only-of-type {\n",
       "        vertical-align: middle;\n",
       "    }\n",
       "\n",
       "    .dataframe tbody tr th {\n",
       "        vertical-align: top;\n",
       "    }\n",
       "\n",
       "    .dataframe thead th {\n",
       "        text-align: right;\n",
       "    }\n",
       "</style>\n",
       "<table border=\"1\" class=\"dataframe\">\n",
       "  <thead>\n",
       "    <tr style=\"text-align: right;\">\n",
       "      <th></th>\n",
       "      <th>CRASH DATE</th>\n",
       "      <th>CRASH TIME</th>\n",
       "      <th>BOROUGH</th>\n",
       "      <th>LATITUDE</th>\n",
       "      <th>LONGITUDE</th>\n",
       "      <th>ON STREET NAME</th>\n",
       "      <th>NUMBER OF PERSONS INJURED</th>\n",
       "      <th>NUMBER OF PERSONS KILLED</th>\n",
       "      <th>NUMBER OF PEDESTRIANS INJURED</th>\n",
       "      <th>NUMBER OF PEDESTRIANS KILLED</th>\n",
       "      <th>NUMBER OF CYCLIST INJURED</th>\n",
       "      <th>NUMBER OF CYCLIST KILLED</th>\n",
       "      <th>NUMBER OF MOTORIST INJURED</th>\n",
       "      <th>NUMBER OF MOTORIST KILLED</th>\n",
       "      <th>CONTRIBUTING FACTOR VEHICLE 1</th>\n",
       "      <th>VEHICLE TYPE CODE 1</th>\n",
       "    </tr>\n",
       "  </thead>\n",
       "  <tbody>\n",
       "    <tr>\n",
       "      <th>0</th>\n",
       "      <td>12/03/2020</td>\n",
       "      <td>13:37</td>\n",
       "      <td>NaN</td>\n",
       "      <td>40.798504</td>\n",
       "      <td>-73.967125</td>\n",
       "      <td>WEST 103 STREET</td>\n",
       "      <td>1</td>\n",
       "      <td>0.0</td>\n",
       "      <td>1</td>\n",
       "      <td>0</td>\n",
       "      <td>0</td>\n",
       "      <td>0</td>\n",
       "      <td>0</td>\n",
       "      <td>0</td>\n",
       "      <td>NaN</td>\n",
       "      <td>NaN</td>\n",
       "    </tr>\n",
       "    <tr>\n",
       "      <th>1</th>\n",
       "      <td>12/02/2020</td>\n",
       "      <td>19:00</td>\n",
       "      <td>NaN</td>\n",
       "      <td>40.731167</td>\n",
       "      <td>-73.709940</td>\n",
       "      <td>256 STREET</td>\n",
       "      <td>0</td>\n",
       "      <td>0.0</td>\n",
       "      <td>0</td>\n",
       "      <td>0</td>\n",
       "      <td>0</td>\n",
       "      <td>0</td>\n",
       "      <td>0</td>\n",
       "      <td>0</td>\n",
       "      <td>unspecified</td>\n",
       "      <td>taxi</td>\n",
       "    </tr>\n",
       "    <tr>\n",
       "      <th>2</th>\n",
       "      <td>11/30/2020</td>\n",
       "      <td>9:40</td>\n",
       "      <td>QUEENS</td>\n",
       "      <td>40.735550</td>\n",
       "      <td>-73.850970</td>\n",
       "      <td>NaN</td>\n",
       "      <td>0</td>\n",
       "      <td>0.0</td>\n",
       "      <td>0</td>\n",
       "      <td>0</td>\n",
       "      <td>0</td>\n",
       "      <td>0</td>\n",
       "      <td>0</td>\n",
       "      <td>0</td>\n",
       "      <td>NaN</td>\n",
       "      <td>NaN</td>\n",
       "    </tr>\n",
       "    <tr>\n",
       "      <th>3</th>\n",
       "      <td>11/29/2020</td>\n",
       "      <td>5:45</td>\n",
       "      <td>NaN</td>\n",
       "      <td>40.701527</td>\n",
       "      <td>-73.989570</td>\n",
       "      <td>BROOKLYN QUEENS EXPRESSWAY</td>\n",
       "      <td>0</td>\n",
       "      <td>0.0</td>\n",
       "      <td>0</td>\n",
       "      <td>0</td>\n",
       "      <td>0</td>\n",
       "      <td>0</td>\n",
       "      <td>0</td>\n",
       "      <td>0</td>\n",
       "      <td>fell asleep</td>\n",
       "      <td>sedan</td>\n",
       "    </tr>\n",
       "    <tr>\n",
       "      <th>4</th>\n",
       "      <td>11/26/2020</td>\n",
       "      <td>23:30</td>\n",
       "      <td>NaN</td>\n",
       "      <td>40.700108</td>\n",
       "      <td>-73.953830</td>\n",
       "      <td>WALLABOUT STREET</td>\n",
       "      <td>1</td>\n",
       "      <td>0.0</td>\n",
       "      <td>0</td>\n",
       "      <td>0</td>\n",
       "      <td>0</td>\n",
       "      <td>0</td>\n",
       "      <td>1</td>\n",
       "      <td>0</td>\n",
       "      <td>driver inattention/distraction</td>\n",
       "      <td>sedan</td>\n",
       "    </tr>\n",
       "  </tbody>\n",
       "</table>\n",
       "</div>"
      ],
      "text/plain": [
       "   CRASH DATE CRASH TIME BOROUGH   LATITUDE  LONGITUDE  \\\n",
       "0  12/03/2020      13:37     NaN  40.798504 -73.967125   \n",
       "1  12/02/2020      19:00     NaN  40.731167 -73.709940   \n",
       "2  11/30/2020       9:40  QUEENS  40.735550 -73.850970   \n",
       "3  11/29/2020       5:45     NaN  40.701527 -73.989570   \n",
       "4  11/26/2020      23:30     NaN  40.700108 -73.953830   \n",
       "\n",
       "                     ON STREET NAME  NUMBER OF PERSONS INJURED  \\\n",
       "0  WEST 103 STREET                                           1   \n",
       "1  256 STREET                                                0   \n",
       "2                               NaN                          0   \n",
       "3  BROOKLYN QUEENS EXPRESSWAY                                0   \n",
       "4  WALLABOUT STREET                                          1   \n",
       "\n",
       "   NUMBER OF PERSONS KILLED  NUMBER OF PEDESTRIANS INJURED  \\\n",
       "0                       0.0                              1   \n",
       "1                       0.0                              0   \n",
       "2                       0.0                              0   \n",
       "3                       0.0                              0   \n",
       "4                       0.0                              0   \n",
       "\n",
       "   NUMBER OF PEDESTRIANS KILLED  NUMBER OF CYCLIST INJURED  \\\n",
       "0                             0                          0   \n",
       "1                             0                          0   \n",
       "2                             0                          0   \n",
       "3                             0                          0   \n",
       "4                             0                          0   \n",
       "\n",
       "   NUMBER OF CYCLIST KILLED  NUMBER OF MOTORIST INJURED  \\\n",
       "0                         0                           0   \n",
       "1                         0                           0   \n",
       "2                         0                           0   \n",
       "3                         0                           0   \n",
       "4                         0                           1   \n",
       "\n",
       "   NUMBER OF MOTORIST KILLED   CONTRIBUTING FACTOR VEHICLE 1  \\\n",
       "0                          0                             NaN   \n",
       "1                          0                     unspecified   \n",
       "2                          0                             NaN   \n",
       "3                          0                     fell asleep   \n",
       "4                          0  driver inattention/distraction   \n",
       "\n",
       "  VEHICLE TYPE CODE 1  \n",
       "0                 NaN  \n",
       "1                taxi  \n",
       "2                 NaN  \n",
       "3               sedan  \n",
       "4               sedan  "
      ]
     },
     "execution_count": 37,
     "metadata": {},
     "output_type": "execute_result"
    }
   ],
   "source": [
    "data_preparation.head()"
   ]
  },
  {
   "cell_type": "markdown",
   "metadata": {},
   "source": [
    "creating a new time stamp column (takes a few minutes on my laptop)"
   ]
  },
  {
   "cell_type": "code",
   "execution_count": 38,
   "metadata": {},
   "outputs": [],
   "source": [
    "data_preparation['CRASH_TIME'] = data_preparation['CRASH DATE']+' '+data_cleaning['CRASH TIME']\n",
    "data_preparation.loc[:,'CRASH_TIME'] = pd.to_datetime(data_preparation.loc[:,'CRASH_TIME'])"
   ]
  },
  {
   "cell_type": "code",
   "execution_count": 39,
   "metadata": {},
   "outputs": [],
   "source": [
    "data_preparation.drop(columns=['CRASH DATE','CRASH TIME'],inplace=True)"
   ]
  },
  {
   "cell_type": "markdown",
   "metadata": {},
   "source": [
    "transforming the column _NUMBER OF PERSONS KILLED_ in integer, since the float value is not needed."
   ]
  },
  {
   "cell_type": "code",
   "execution_count": 40,
   "metadata": {},
   "outputs": [],
   "source": [
    "data_preparation.loc[:,'NUMBER OF PERSONS KILLED'] = data_preparation.loc[:,'NUMBER OF PERSONS KILLED'].astype(int)"
   ]
  },
  {
   "cell_type": "code",
   "execution_count": 41,
   "metadata": {},
   "outputs": [
    {
     "data": {
      "image/png": "[encoded data removed]",
      "text/plain": [
       "<Figure size 1440x720 with 12 Axes>"
      ]
     },
     "metadata": {
      "needs_background": "light"
     },
     "output_type": "display_data"
    }
   ],
   "source": [
    "data_preparation.hist(figsize=(20,10), bins=5);"
   ]
  },
  {
   "cell_type": "markdown",
   "metadata": {},
   "source": [
    "filling a few rows with backward and foreward values"
   ]
  },
  {
   "cell_type": "code",
   "execution_count": 42,
   "metadata": {},
   "outputs": [],
   "source": [
    "data_preparation['VEHICLE TYPE CODE 1'] = data_preparation['VEHICLE TYPE CODE 1'].ffill().bfill()\n",
    "data_preparation['CONTRIBUTING FACTOR VEHICLE 1'] = data_preparation['CONTRIBUTING FACTOR VEHICLE 1'].ffill().bfill()"
   ]
  },
  {
   "cell_type": "code",
   "execution_count": 43,
   "metadata": {},
   "outputs": [
    {
     "data": {
      "text/plain": [
       "BOROUGH                          349168\n",
       "LATITUDE                              0\n",
       "LONGITUDE                             0\n",
       "ON STREET NAME                   292135\n",
       "NUMBER OF PERSONS INJURED             0\n",
       "NUMBER OF PERSONS KILLED              0\n",
       "NUMBER OF PEDESTRIANS INJURED         0\n",
       "NUMBER OF PEDESTRIANS KILLED          0\n",
       "NUMBER OF CYCLIST INJURED             0\n",
       "NUMBER OF CYCLIST KILLED              0\n",
       "NUMBER OF MOTORIST INJURED            0\n",
       "NUMBER OF MOTORIST KILLED             0\n",
       "CONTRIBUTING FACTOR VEHICLE 1         0\n",
       "VEHICLE TYPE CODE 1                   0\n",
       "CRASH_TIME                            0\n",
       "dtype: int64"
      ]
     },
     "execution_count": 43,
     "metadata": {},
     "output_type": "execute_result"
    }
   ],
   "source": [
    "data_preparation.isna().sum()"
   ]
  },
  {
   "cell_type": "code",
   "execution_count": 44,
   "metadata": {},
   "outputs": [],
   "source": [
    "# data_preparation[data_preparation['VEHICLE TYPE CODE 1'].str.len()==12]['VEHICLE TYPE CODE 1'].value_counts()"
   ]
  },
  {
   "cell_type": "markdown",
   "metadata": {},
   "source": [
    "mapping the most recurring _INVOLVED_VEHICLE_ to a new columns"
   ]
  },
  {
   "cell_type": "code",
   "execution_count": 45,
   "metadata": {},
   "outputs": [],
   "source": [
    "data_preparation['INVOLVED_VEHICLE'] = data_preparation['VEHICLE TYPE CODE 1']\\\n",
    ".map({'station wagon/sport utility vehicle':'SUV',\n",
    "      'sport utility / station wagon':'SUV',\n",
    "     'passenger vehicle':'sedan',\n",
    "     '4 dr sedan':'sedan',\n",
    "     '2 dr sedan':'sedan',\n",
    "     'convertible':'sedan',\n",
    "     'pick-up truck':'truck',\n",
    "     'tractor truck diesel':'truck',\n",
    "     'tractor truck gasoline':'truck',\n",
    "     'box truck':'truck',\n",
    "     'dump':'truck',\n",
    "     'flat bed':'truck',\n",
    "     'ambulance':'truck',\n",
    "     'ambul':'truck',\n",
    "     'taxi':'taxi',\n",
    "     'bus':'bus',\n",
    "     'livery vehicle':'truck',\n",
    "     'small com veh(4 tires)':'truck',\n",
    "     'large com veh(6 or more tires)':'truck',\n",
    "     'carry all':'truck',\n",
    "     'van':'truck',\n",
    "     'fire':'truck',\n",
    "     'tanker':'truck',\n",
    "     'bike':'bike',\n",
    "     'bicycle':'bike',\n",
    "     'motorcycle':'motorcycle',\n",
    "     'motorbike':'motorcycle'\n",
    "     })\n",
    "data_preparation['INVOLVED_VEHICLE'].fillna('other',inplace=True)"
   ]
  },
  {
   "cell_type": "code",
   "execution_count": 46,
   "metadata": {},
   "outputs": [
    {
     "data": {
      "text/plain": [
       "SUV           452688\n",
       "other         446673\n",
       "sedan         374879\n",
       "truck         119779\n",
       "taxi           68276\n",
       "bus            26227\n",
       "bike            9166\n",
       "motorcycle      8627\n",
       "Name: INVOLVED_VEHICLE, dtype: int64"
      ]
     },
     "execution_count": 46,
     "metadata": {},
     "output_type": "execute_result"
    }
   ],
   "source": [
    "data_preparation['INVOLVED_VEHICLE'].value_counts()"
   ]
  },
  {
   "cell_type": "markdown",
   "metadata": {},
   "source": [
    "mapping the most recurring FACTORS or aggregating them"
   ]
  },
  {
   "cell_type": "code",
   "execution_count": 47,
   "metadata": {},
   "outputs": [
    {
     "data": {
      "text/plain": [
       "unspecified                       540471\n",
       "driver inattention/distraction    293784\n",
       "failure to yield right-of-way      88939\n",
       "following too closely              75671\n",
       "backing unsafely                   60231\n",
       "Name: CONTRIBUTING FACTOR VEHICLE 1, dtype: int64"
      ]
     },
     "execution_count": 47,
     "metadata": {},
     "output_type": "execute_result"
    }
   ],
   "source": [
    "data_preparation['CONTRIBUTING FACTOR VEHICLE 1'].value_counts()[0:5]"
   ]
  },
  {
   "cell_type": "code",
   "execution_count": 48,
   "metadata": {},
   "outputs": [],
   "source": [
    "data_preparation['CAUSE'] = data_preparation['CONTRIBUTING FACTOR VEHICLE 1']\\\n",
    ".map({\n",
    "    'oversized vehicle':'other vehicular',\n",
    "    'outside car distraction':'other vehicular',\n",
    "    'view obstructed/limited':'other vehicular',\n",
    "    'passenger distraction':'driver inattention/distraction',\n",
    "    'aggressive driving/road rage':'driver inattention/distraction',\n",
    "    'pedestrian/bicyclist/other pedestrian error/confusion':'other vehicular',\n",
    "    'brakes defective':'other vehicular',\n",
    "    'fell asleep':'driver inattention/distraction',\n",
    "    'obstruction/debris':'other vehicular',\n",
    "    'glare':'other vehicular',\n",
    "    'failure to keep right':'driver inattention/distraction',\n",
    "    'other electronic device':'other vehicular',\n",
    "    'illness':'physical disability',\n",
    "    'steering failure':'other vehicular',\n",
    "    'pavement defective':'other vehicular',\n",
    "    'tire failure/inadequate':'other vehicular',\n",
    "    'reaction to other uninvolved vehicle':'other vehicular',\n",
    "    'animals action':'other vehicular',\n",
    "    'illnes':'driver inattention/distraction',\n",
    "    'drugs (illegal)':'driver inattention/distraction',\n",
    "    'driverless/runaway vehicle':'driver inattention/distraction',\n",
    "    'lane marking improper/inadequate':'other vehicular',\n",
    "    'accelerator defective':'other vehicular',\n",
    "    'traffic control device improper/non-working':'other vehicular',\n",
    "    'cell phone (hand-held)':'driver inattention/distraction',\n",
    "    'cell phone (hands-free)':'driver inattention/distraction',\n",
    "    'tow hitch defective':'other vehicular',\n",
    "    'other lighting defects':'other vehicular',\n",
    "    'using on board navigation device':'driver inattention/distraction',\n",
    "    'headlights defective':'other vehicular',\n",
    "    'vehicle vandalism':'other vehicular',\n",
    "    'eating or drinking':'driver inattention/distraction',\n",
    "    'tinted windows':'driver inattention/distraction',\n",
    "    'shoulders defective/improper':'driver inattention/distraction',\n",
    "    'windshield inadequate':'other vehicular',\n",
    "    '80':'other',\n",
    "    'texting':'driver inattention/distraction',\n",
    "    'listening/using headphones':'driver inattention/distraction',\n",
    "    '1':'other'\n",
    "    }).fillna(data_preparation['CONTRIBUTING FACTOR VEHICLE 1'])\n",
    "data_preparation['CAUSE'] = data_preparation['CAUSE'].replace('unspecified',np.nan)"
   ]
  },
  {
   "cell_type": "code",
   "execution_count": 49,
   "metadata": {},
   "outputs": [
    {
     "data": {
      "text/plain": [
       "driver inattention/distraction    316189\n",
       "other vehicular                   105657\n",
       "failure to yield right-of-way      88939\n",
       "following too closely              75671\n",
       "backing unsafely                   60231\n",
       "passing or lane usage improper     38485\n",
       "turning improperly                 36903\n",
       "fatigued/drowsy                    36849\n",
       "passing too closely                36802\n",
       "unsafe lane changing               29038\n",
       "traffic control disregarded        22733\n",
       "driver inexperience                22650\n",
       "lost consciousness                 16744\n",
       "alcohol involvement                14491\n",
       "pavement slippery                  14322\n",
       "unsafe speed                       14157\n",
       "reaction to uninvolved vehicle     13683\n",
       "prescription medication            12861\n",
       "physical disability                 9372\n",
       "other                                 67\n",
       "Name: CAUSE, dtype: int64"
      ]
     },
     "execution_count": 49,
     "metadata": {},
     "output_type": "execute_result"
    }
   ],
   "source": [
    "data_preparation['CAUSE'].value_counts()"
   ]
  },
  {
   "cell_type": "code",
   "execution_count": 50,
   "metadata": {},
   "outputs": [],
   "source": [
    "data_preparation['CAUSE'] = data_preparation['CAUSE'].ffill().bfill()"
   ]
  },
  {
   "cell_type": "code",
   "execution_count": 51,
   "metadata": {
    "scrolled": true
   },
   "outputs": [
    {
     "data": {
      "text/plain": [
       "BOROUGH                          349168\n",
       "LATITUDE                              0\n",
       "LONGITUDE                             0\n",
       "ON STREET NAME                   292135\n",
       "NUMBER OF PERSONS INJURED             0\n",
       "NUMBER OF PERSONS KILLED              0\n",
       "NUMBER OF PEDESTRIANS INJURED         0\n",
       "NUMBER OF PEDESTRIANS KILLED          0\n",
       "NUMBER OF CYCLIST INJURED             0\n",
       "NUMBER OF CYCLIST KILLED              0\n",
       "NUMBER OF MOTORIST INJURED            0\n",
       "NUMBER OF MOTORIST KILLED             0\n",
       "CONTRIBUTING FACTOR VEHICLE 1         0\n",
       "VEHICLE TYPE CODE 1                   0\n",
       "CRASH_TIME                            0\n",
       "INVOLVED_VEHICLE                      0\n",
       "CAUSE                                 0\n",
       "dtype: int64"
      ]
     },
     "execution_count": 51,
     "metadata": {},
     "output_type": "execute_result"
    }
   ],
   "source": [
    "data_preparation.isna().sum()"
   ]
  },
  {
   "cell_type": "code",
   "execution_count": 52,
   "metadata": {},
   "outputs": [
    {
     "data": {
      "text/html": [
       "<div>\n",
       "<style scoped>\n",
       "    .dataframe tbody tr th:only-of-type {\n",
       "        vertical-align: middle;\n",
       "    }\n",
       "\n",
       "    .dataframe tbody tr th {\n",
       "        vertical-align: top;\n",
       "    }\n",
       "\n",
       "    .dataframe thead th {\n",
       "        text-align: right;\n",
       "    }\n",
       "</style>\n",
       "<table border=\"1\" class=\"dataframe\">\n",
       "  <thead>\n",
       "    <tr style=\"text-align: right;\">\n",
       "      <th></th>\n",
       "      <th>BOROUGH</th>\n",
       "      <th>LATITUDE</th>\n",
       "      <th>LONGITUDE</th>\n",
       "      <th>ON STREET NAME</th>\n",
       "      <th>NUMBER OF PERSONS INJURED</th>\n",
       "      <th>NUMBER OF PERSONS KILLED</th>\n",
       "      <th>NUMBER OF PEDESTRIANS INJURED</th>\n",
       "      <th>NUMBER OF PEDESTRIANS KILLED</th>\n",
       "      <th>NUMBER OF CYCLIST INJURED</th>\n",
       "      <th>NUMBER OF CYCLIST KILLED</th>\n",
       "      <th>NUMBER OF MOTORIST INJURED</th>\n",
       "      <th>NUMBER OF MOTORIST KILLED</th>\n",
       "      <th>CONTRIBUTING FACTOR VEHICLE 1</th>\n",
       "      <th>VEHICLE TYPE CODE 1</th>\n",
       "      <th>CRASH_TIME</th>\n",
       "      <th>INVOLVED_VEHICLE</th>\n",
       "      <th>CAUSE</th>\n",
       "    </tr>\n",
       "  </thead>\n",
       "  <tbody>\n",
       "    <tr>\n",
       "      <th>0</th>\n",
       "      <td>NaN</td>\n",
       "      <td>40.798504</td>\n",
       "      <td>-73.967125</td>\n",
       "      <td>WEST 103 STREET</td>\n",
       "      <td>1</td>\n",
       "      <td>0</td>\n",
       "      <td>1</td>\n",
       "      <td>0</td>\n",
       "      <td>0</td>\n",
       "      <td>0</td>\n",
       "      <td>0</td>\n",
       "      <td>0</td>\n",
       "      <td>unspecified</td>\n",
       "      <td>taxi</td>\n",
       "      <td>2020-12-03 13:37:00</td>\n",
       "      <td>taxi</td>\n",
       "      <td>driver inattention/distraction</td>\n",
       "    </tr>\n",
       "    <tr>\n",
       "      <th>1</th>\n",
       "      <td>NaN</td>\n",
       "      <td>40.731167</td>\n",
       "      <td>-73.709940</td>\n",
       "      <td>256 STREET</td>\n",
       "      <td>0</td>\n",
       "      <td>0</td>\n",
       "      <td>0</td>\n",
       "      <td>0</td>\n",
       "      <td>0</td>\n",
       "      <td>0</td>\n",
       "      <td>0</td>\n",
       "      <td>0</td>\n",
       "      <td>unspecified</td>\n",
       "      <td>taxi</td>\n",
       "      <td>2020-12-02 19:00:00</td>\n",
       "      <td>taxi</td>\n",
       "      <td>driver inattention/distraction</td>\n",
       "    </tr>\n",
       "    <tr>\n",
       "      <th>2</th>\n",
       "      <td>QUEENS</td>\n",
       "      <td>40.735550</td>\n",
       "      <td>-73.850970</td>\n",
       "      <td>NaN</td>\n",
       "      <td>0</td>\n",
       "      <td>0</td>\n",
       "      <td>0</td>\n",
       "      <td>0</td>\n",
       "      <td>0</td>\n",
       "      <td>0</td>\n",
       "      <td>0</td>\n",
       "      <td>0</td>\n",
       "      <td>unspecified</td>\n",
       "      <td>taxi</td>\n",
       "      <td>2020-11-30 09:40:00</td>\n",
       "      <td>taxi</td>\n",
       "      <td>driver inattention/distraction</td>\n",
       "    </tr>\n",
       "    <tr>\n",
       "      <th>3</th>\n",
       "      <td>NaN</td>\n",
       "      <td>40.701527</td>\n",
       "      <td>-73.989570</td>\n",
       "      <td>BROOKLYN QUEENS EXPRESSWAY</td>\n",
       "      <td>0</td>\n",
       "      <td>0</td>\n",
       "      <td>0</td>\n",
       "      <td>0</td>\n",
       "      <td>0</td>\n",
       "      <td>0</td>\n",
       "      <td>0</td>\n",
       "      <td>0</td>\n",
       "      <td>fell asleep</td>\n",
       "      <td>sedan</td>\n",
       "      <td>2020-11-29 05:45:00</td>\n",
       "      <td>other</td>\n",
       "      <td>driver inattention/distraction</td>\n",
       "    </tr>\n",
       "    <tr>\n",
       "      <th>4</th>\n",
       "      <td>NaN</td>\n",
       "      <td>40.700108</td>\n",
       "      <td>-73.953830</td>\n",
       "      <td>WALLABOUT STREET</td>\n",
       "      <td>1</td>\n",
       "      <td>0</td>\n",
       "      <td>0</td>\n",
       "      <td>0</td>\n",
       "      <td>0</td>\n",
       "      <td>0</td>\n",
       "      <td>1</td>\n",
       "      <td>0</td>\n",
       "      <td>driver inattention/distraction</td>\n",
       "      <td>sedan</td>\n",
       "      <td>2020-11-26 23:30:00</td>\n",
       "      <td>other</td>\n",
       "      <td>driver inattention/distraction</td>\n",
       "    </tr>\n",
       "    <tr>\n",
       "      <th>5</th>\n",
       "      <td>BROOKLYN</td>\n",
       "      <td>40.668293</td>\n",
       "      <td>-73.979240</td>\n",
       "      <td>NaN</td>\n",
       "      <td>1</td>\n",
       "      <td>0</td>\n",
       "      <td>0</td>\n",
       "      <td>0</td>\n",
       "      <td>0</td>\n",
       "      <td>0</td>\n",
       "      <td>1</td>\n",
       "      <td>0</td>\n",
       "      <td>driver inattention/distraction</td>\n",
       "      <td>sedan</td>\n",
       "      <td>2020-11-23 11:28:00</td>\n",
       "      <td>other</td>\n",
       "      <td>driver inattention/distraction</td>\n",
       "    </tr>\n",
       "    <tr>\n",
       "      <th>6</th>\n",
       "      <td>NaN</td>\n",
       "      <td>40.624640</td>\n",
       "      <td>-74.141670</td>\n",
       "      <td>FOREST AVENUE</td>\n",
       "      <td>1</td>\n",
       "      <td>0</td>\n",
       "      <td>1</td>\n",
       "      <td>0</td>\n",
       "      <td>0</td>\n",
       "      <td>0</td>\n",
       "      <td>0</td>\n",
       "      <td>0</td>\n",
       "      <td>driver inattention/distraction</td>\n",
       "      <td>sedan</td>\n",
       "      <td>2020-11-22 20:10:00</td>\n",
       "      <td>other</td>\n",
       "      <td>driver inattention/distraction</td>\n",
       "    </tr>\n",
       "    <tr>\n",
       "      <th>7</th>\n",
       "      <td>NaN</td>\n",
       "      <td>40.677483</td>\n",
       "      <td>-73.930330</td>\n",
       "      <td>UTICA AVENUE</td>\n",
       "      <td>1</td>\n",
       "      <td>0</td>\n",
       "      <td>0</td>\n",
       "      <td>0</td>\n",
       "      <td>1</td>\n",
       "      <td>0</td>\n",
       "      <td>0</td>\n",
       "      <td>0</td>\n",
       "      <td>other vehicular</td>\n",
       "      <td>taxi</td>\n",
       "      <td>2020-11-20 12:00:00</td>\n",
       "      <td>taxi</td>\n",
       "      <td>other vehicular</td>\n",
       "    </tr>\n",
       "    <tr>\n",
       "      <th>8</th>\n",
       "      <td>MANHATTAN</td>\n",
       "      <td>40.736706</td>\n",
       "      <td>-73.978220</td>\n",
       "      <td>NaN</td>\n",
       "      <td>1</td>\n",
       "      <td>0</td>\n",
       "      <td>1</td>\n",
       "      <td>0</td>\n",
       "      <td>0</td>\n",
       "      <td>0</td>\n",
       "      <td>0</td>\n",
       "      <td>0</td>\n",
       "      <td>turning improperly</td>\n",
       "      <td>taxi</td>\n",
       "      <td>2020-11-18 11:00:00</td>\n",
       "      <td>taxi</td>\n",
       "      <td>turning improperly</td>\n",
       "    </tr>\n",
       "    <tr>\n",
       "      <th>9</th>\n",
       "      <td>NaN</td>\n",
       "      <td>40.608757</td>\n",
       "      <td>-74.038086</td>\n",
       "      <td>VERRAZANO BRIDGE LOWER</td>\n",
       "      <td>0</td>\n",
       "      <td>0</td>\n",
       "      <td>0</td>\n",
       "      <td>0</td>\n",
       "      <td>0</td>\n",
       "      <td>0</td>\n",
       "      <td>0</td>\n",
       "      <td>0</td>\n",
       "      <td>unspecified</td>\n",
       "      <td>sedan</td>\n",
       "      <td>2017-01-17 03:02:00</td>\n",
       "      <td>other</td>\n",
       "      <td>turning improperly</td>\n",
       "    </tr>\n",
       "  </tbody>\n",
       "</table>\n",
       "</div>"
      ],
      "text/plain": [
       "     BOROUGH   LATITUDE  LONGITUDE                    ON STREET NAME  \\\n",
       "0        NaN  40.798504 -73.967125  WEST 103 STREET                    \n",
       "1        NaN  40.731167 -73.709940  256 STREET                         \n",
       "2     QUEENS  40.735550 -73.850970                               NaN   \n",
       "3        NaN  40.701527 -73.989570  BROOKLYN QUEENS EXPRESSWAY         \n",
       "4        NaN  40.700108 -73.953830  WALLABOUT STREET                   \n",
       "5   BROOKLYN  40.668293 -73.979240                               NaN   \n",
       "6        NaN  40.624640 -74.141670  FOREST AVENUE                      \n",
       "7        NaN  40.677483 -73.930330  UTICA AVENUE                       \n",
       "8  MANHATTAN  40.736706 -73.978220                               NaN   \n",
       "9        NaN  40.608757 -74.038086  VERRAZANO BRIDGE LOWER             \n",
       "\n",
       "   NUMBER OF PERSONS INJURED  NUMBER OF PERSONS KILLED  \\\n",
       "0                          1                         0   \n",
       "1                          0                         0   \n",
       "2                          0                         0   \n",
       "3                          0                         0   \n",
       "4                          1                         0   \n",
       "5                          1                         0   \n",
       "6                          1                         0   \n",
       "7                          1                         0   \n",
       "8                          1                         0   \n",
       "9                          0                         0   \n",
       "\n",
       "   NUMBER OF PEDESTRIANS INJURED  NUMBER OF PEDESTRIANS KILLED  \\\n",
       "0                              1                             0   \n",
       "1                              0                             0   \n",
       "2                              0                             0   \n",
       "3                              0                             0   \n",
       "4                              0                             0   \n",
       "5                              0                             0   \n",
       "6                              1                             0   \n",
       "7                              0                             0   \n",
       "8                              1                             0   \n",
       "9                              0                             0   \n",
       "\n",
       "   NUMBER OF CYCLIST INJURED  NUMBER OF CYCLIST KILLED  \\\n",
       "0                          0                         0   \n",
       "1                          0                         0   \n",
       "2                          0                         0   \n",
       "3                          0                         0   \n",
       "4                          0                         0   \n",
       "5                          0                         0   \n",
       "6                          0                         0   \n",
       "7                          1                         0   \n",
       "8                          0                         0   \n",
       "9                          0                         0   \n",
       "\n",
       "   NUMBER OF MOTORIST INJURED  NUMBER OF MOTORIST KILLED  \\\n",
       "0                           0                          0   \n",
       "1                           0                          0   \n",
       "2                           0                          0   \n",
       "3                           0                          0   \n",
       "4                           1                          0   \n",
       "5                           1                          0   \n",
       "6                           0                          0   \n",
       "7                           0                          0   \n",
       "8                           0                          0   \n",
       "9                           0                          0   \n",
       "\n",
       "    CONTRIBUTING FACTOR VEHICLE 1 VEHICLE TYPE CODE 1          CRASH_TIME  \\\n",
       "0                     unspecified                taxi 2020-12-03 13:37:00   \n",
       "1                     unspecified                taxi 2020-12-02 19:00:00   \n",
       "2                     unspecified                taxi 2020-11-30 09:40:00   \n",
       "3                     fell asleep               sedan 2020-11-29 05:45:00   \n",
       "4  driver inattention/distraction               sedan 2020-11-26 23:30:00   \n",
       "5  driver inattention/distraction               sedan 2020-11-23 11:28:00   \n",
       "6  driver inattention/distraction               sedan 2020-11-22 20:10:00   \n",
       "7                 other vehicular                taxi 2020-11-20 12:00:00   \n",
       "8              turning improperly                taxi 2020-11-18 11:00:00   \n",
       "9                     unspecified               sedan 2017-01-17 03:02:00   \n",
       "\n",
       "  INVOLVED_VEHICLE                           CAUSE  \n",
       "0             taxi  driver inattention/distraction  \n",
       "1             taxi  driver inattention/distraction  \n",
       "2             taxi  driver inattention/distraction  \n",
       "3            other  driver inattention/distraction  \n",
       "4            other  driver inattention/distraction  \n",
       "5            other  driver inattention/distraction  \n",
       "6            other  driver inattention/distraction  \n",
       "7             taxi                 other vehicular  \n",
       "8             taxi              turning improperly  \n",
       "9            other              turning improperly  "
      ]
     },
     "execution_count": 52,
     "metadata": {},
     "output_type": "execute_result"
    }
   ],
   "source": [
    "data_preparation.head(10)"
   ]
  },
  {
   "cell_type": "markdown",
   "metadata": {},
   "source": [
    "---"
   ]
  },
  {
   "cell_type": "markdown",
   "metadata": {},
   "source": [
    "__Attempt to fix missing geo data__"
   ]
  },
  {
   "cell_type": "code",
   "execution_count": 53,
   "metadata": {},
   "outputs": [],
   "source": [
    "geolocator = Nominatim(user_agent='coll_nyc')"
   ]
  },
  {
   "cell_type": "code",
   "execution_count": 54,
   "metadata": {},
   "outputs": [
    {
     "name": "stdout",
     "output_type": "stream",
     "text": [
      "(1506315, 4)\n"
     ]
    },
    {
     "data": {
      "text/html": [
       "<div>\n",
       "<style scoped>\n",
       "    .dataframe tbody tr th:only-of-type {\n",
       "        vertical-align: middle;\n",
       "    }\n",
       "\n",
       "    .dataframe tbody tr th {\n",
       "        vertical-align: top;\n",
       "    }\n",
       "\n",
       "    .dataframe thead th {\n",
       "        text-align: right;\n",
       "    }\n",
       "</style>\n",
       "<table border=\"1\" class=\"dataframe\">\n",
       "  <thead>\n",
       "    <tr style=\"text-align: right;\">\n",
       "      <th></th>\n",
       "      <th>BOROUGH</th>\n",
       "      <th>LATITUDE</th>\n",
       "      <th>LONGITUDE</th>\n",
       "      <th>ON STREET NAME</th>\n",
       "    </tr>\n",
       "  </thead>\n",
       "  <tbody>\n",
       "    <tr>\n",
       "      <th>0</th>\n",
       "      <td>NaN</td>\n",
       "      <td>40.798504</td>\n",
       "      <td>-73.967125</td>\n",
       "      <td>WEST 103 STREET</td>\n",
       "    </tr>\n",
       "    <tr>\n",
       "      <th>1</th>\n",
       "      <td>NaN</td>\n",
       "      <td>40.731167</td>\n",
       "      <td>-73.709940</td>\n",
       "      <td>256 STREET</td>\n",
       "    </tr>\n",
       "    <tr>\n",
       "      <th>2</th>\n",
       "      <td>QUEENS</td>\n",
       "      <td>40.735550</td>\n",
       "      <td>-73.850970</td>\n",
       "      <td>NaN</td>\n",
       "    </tr>\n",
       "  </tbody>\n",
       "</table>\n",
       "</div>"
      ],
      "text/plain": [
       "  BOROUGH   LATITUDE  LONGITUDE                    ON STREET NAME\n",
       "0     NaN  40.798504 -73.967125  WEST 103 STREET                 \n",
       "1     NaN  40.731167 -73.709940  256 STREET                      \n",
       "2  QUEENS  40.735550 -73.850970                               NaN"
      ]
     },
     "execution_count": 54,
     "metadata": {},
     "output_type": "execute_result"
    }
   ],
   "source": [
    "geodata = data_preparation[['BOROUGH','LATITUDE','LONGITUDE','ON STREET NAME']].copy()\n",
    "print(geodata.shape)\n",
    "geodata.head(3)"
   ]
  },
  {
   "cell_type": "code",
   "execution_count": 55,
   "metadata": {},
   "outputs": [],
   "source": [
    "# missing_street = geodata[geodata['ON STREET NAME'].isnull()][['COLLISION_ID','BOROUGH','LATITUDE','LONGITUDE']]\n",
    "# missing_borough = geodata[geodata['BOROUGH'].isnull()][['COLLISION_ID','ON STREET NAME','LATITUDE','LONGITUDE']]\n",
    "\n",
    "missing_street = geodata[geodata['ON STREET NAME'].isnull()][['LATITUDE','LONGITUDE']]\n",
    "missing_borough = geodata[geodata['BOROUGH'].isnull()][['LATITUDE','LONGITUDE']]\n",
    "\n",
    "full_geodata = geodata.dropna()"
   ]
  },
  {
   "cell_type": "code",
   "execution_count": 56,
   "metadata": {},
   "outputs": [],
   "source": [
    "missing_geodata = missing_street.append(missing_borough)"
   ]
  },
  {
   "cell_type": "code",
   "execution_count": 57,
   "metadata": {},
   "outputs": [],
   "source": [
    "missing_geodata = missing_geodata.drop_duplicates().reset_index(drop=True)"
   ]
  },
  {
   "cell_type": "code",
   "execution_count": 58,
   "metadata": {},
   "outputs": [
    {
     "data": {
      "text/plain": [
       "(175627, 2)"
      ]
     },
     "execution_count": 58,
     "metadata": {},
     "output_type": "execute_result"
    }
   ],
   "source": [
    "missing_geodata.shape"
   ]
  },
  {
   "cell_type": "markdown",
   "metadata": {},
   "source": [
    "#### Plotting a technique to extract the missing values using Nominatim"
   ]
  },
  {
   "cell_type": "code",
   "execution_count": 59,
   "metadata": {},
   "outputs": [],
   "source": [
    "test = missing_geodata[0:100].copy()"
   ]
  },
  {
   "cell_type": "code",
   "execution_count": 60,
   "metadata": {},
   "outputs": [],
   "source": [
    "def get_road(x):\n",
    "    location = geolocator.reverse((x['LATITUDE'],x['LONGITUDE']), exactly_one=True)\n",
    "    address = location.raw['address']\n",
    "    road = address.get('road', '')\n",
    "    return road.upper()"
   ]
  },
  {
   "cell_type": "code",
   "execution_count": 61,
   "metadata": {},
   "outputs": [],
   "source": [
    "def get_suburb(x):\n",
    "    location = geolocator.reverse((x['LATITUDE'],x['LONGITUDE']), exactly_one=True)\n",
    "    address = location.raw['address']\n",
    "    road = address.get('suburb', '')\n",
    "    return road.upper()"
   ]
  },
  {
   "cell_type": "code",
   "execution_count": 62,
   "metadata": {},
   "outputs": [],
   "source": [
    "def get_address(x):\n",
    "    location = geolocator.reverse((x['LATITUDE'],x['LONGITUDE']), exactly_one=True)\n",
    "    address = location.raw['address']\n",
    "    road = address.get('road', '')\n",
    "    sub = address.get('suburb', '')\n",
    "    return \", \".join([road.upper(), sub.upper()])"
   ]
  },
  {
   "cell_type": "code",
   "execution_count": 63,
   "metadata": {},
   "outputs": [
    {
     "name": "stdout",
     "output_type": "stream",
     "text": [
      "CPU times: user 256 ms, sys: 47.6 ms, total: 304 ms\n",
      "Wall time: 50.7 s\n"
     ]
    }
   ],
   "source": [
    "%%time\n",
    "test.loc[:,'data'] = test.apply(get_address,axis=1)"
   ]
  },
  {
   "cell_type": "markdown",
   "metadata": {},
   "source": [
    "After this few tests I decided to drop the rows related to the missing values for the following reasons:\n",
    "\n",
    "- the _missing_geodata_ dataset contains over 175K records\n",
    "- a test for 100 rows takes 50 seconds to gather the missing data\n",
    "- putting these results in proportions means that it would take roughly 24 hours of calls which is not sustainable"
   ]
  },
  {
   "cell_type": "code",
   "execution_count": 64,
   "metadata": {},
   "outputs": [],
   "source": [
    "data_preparation = data_preparation.drop(columns=['LATITUDE','LONGITUDE'])"
   ]
  },
  {
   "cell_type": "markdown",
   "metadata": {},
   "source": [
    "#### Sad decision: dropping rows with missing Borough or Road or both"
   ]
  },
  {
   "cell_type": "code",
   "execution_count": 104,
   "metadata": {},
   "outputs": [
    {
     "name": "stdout",
     "output_type": "stream",
     "text": [
      "(938339, 15)\n"
     ]
    }
   ],
   "source": [
    "data_without_na = data_preparation.dropna().copy()\n",
    "print(data_without_na.shape)"
   ]
  },
  {
   "cell_type": "code",
   "execution_count": 105,
   "metadata": {},
   "outputs": [
    {
     "data": {
      "text/plain": [
       "BOROUGH                          0\n",
       "ON STREET NAME                   0\n",
       "NUMBER OF PERSONS INJURED        0\n",
       "NUMBER OF PERSONS KILLED         0\n",
       "NUMBER OF PEDESTRIANS INJURED    0\n",
       "NUMBER OF PEDESTRIANS KILLED     0\n",
       "NUMBER OF CYCLIST INJURED        0\n",
       "NUMBER OF CYCLIST KILLED         0\n",
       "NUMBER OF MOTORIST INJURED       0\n",
       "NUMBER OF MOTORIST KILLED        0\n",
       "CONTRIBUTING FACTOR VEHICLE 1    0\n",
       "VEHICLE TYPE CODE 1              0\n",
       "CRASH_TIME                       0\n",
       "INVOLVED_VEHICLE                 0\n",
       "CAUSE                            0\n",
       "dtype: int64"
      ]
     },
     "execution_count": 105,
     "metadata": {},
     "output_type": "execute_result"
    }
   ],
   "source": [
    "data_without_na.isna().sum()"
   ]
  },
  {
   "cell_type": "markdown",
   "metadata": {},
   "source": [
    "Now the dataset looks ready for the next steps."
   ]
  },
  {
   "cell_type": "code",
   "execution_count": 106,
   "metadata": {},
   "outputs": [
    {
     "data": {
      "text/html": [
       "<div>\n",
       "<style scoped>\n",
       "    .dataframe tbody tr th:only-of-type {\n",
       "        vertical-align: middle;\n",
       "    }\n",
       "\n",
       "    .dataframe tbody tr th {\n",
       "        vertical-align: top;\n",
       "    }\n",
       "\n",
       "    .dataframe thead th {\n",
       "        text-align: right;\n",
       "    }\n",
       "</style>\n",
       "<table border=\"1\" class=\"dataframe\">\n",
       "  <thead>\n",
       "    <tr style=\"text-align: right;\">\n",
       "      <th></th>\n",
       "      <th>BOROUGH</th>\n",
       "      <th>ON STREET NAME</th>\n",
       "      <th>NUMBER OF PERSONS INJURED</th>\n",
       "      <th>NUMBER OF PERSONS KILLED</th>\n",
       "      <th>NUMBER OF PEDESTRIANS INJURED</th>\n",
       "      <th>NUMBER OF PEDESTRIANS KILLED</th>\n",
       "      <th>NUMBER OF CYCLIST INJURED</th>\n",
       "      <th>NUMBER OF CYCLIST KILLED</th>\n",
       "      <th>NUMBER OF MOTORIST INJURED</th>\n",
       "      <th>NUMBER OF MOTORIST KILLED</th>\n",
       "      <th>CONTRIBUTING FACTOR VEHICLE 1</th>\n",
       "      <th>VEHICLE TYPE CODE 1</th>\n",
       "      <th>CRASH_TIME</th>\n",
       "      <th>INVOLVED_VEHICLE</th>\n",
       "      <th>CAUSE</th>\n",
       "    </tr>\n",
       "  </thead>\n",
       "  <tbody>\n",
       "    <tr>\n",
       "      <th>12</th>\n",
       "      <td>BRONX</td>\n",
       "      <td>WEST 231 STREET</td>\n",
       "      <td>1</td>\n",
       "      <td>0</td>\n",
       "      <td>1</td>\n",
       "      <td>0</td>\n",
       "      <td>0</td>\n",
       "      <td>0</td>\n",
       "      <td>0</td>\n",
       "      <td>0</td>\n",
       "      <td>unspecified</td>\n",
       "      <td>box truck</td>\n",
       "      <td>2020-11-18 09:37:00</td>\n",
       "      <td>truck</td>\n",
       "      <td>other vehicular</td>\n",
       "    </tr>\n",
       "    <tr>\n",
       "      <th>14</th>\n",
       "      <td>BROOKLYN</td>\n",
       "      <td>MANHATTAN AVENUE</td>\n",
       "      <td>0</td>\n",
       "      <td>0</td>\n",
       "      <td>0</td>\n",
       "      <td>0</td>\n",
       "      <td>0</td>\n",
       "      <td>0</td>\n",
       "      <td>0</td>\n",
       "      <td>0</td>\n",
       "      <td>unspecified</td>\n",
       "      <td>motorcycle</td>\n",
       "      <td>2020-11-09 11:50:00</td>\n",
       "      <td>motorcycle</td>\n",
       "      <td>driver inattention/distraction</td>\n",
       "    </tr>\n",
       "    <tr>\n",
       "      <th>16</th>\n",
       "      <td>QUEENS</td>\n",
       "      <td>222 STREET</td>\n",
       "      <td>0</td>\n",
       "      <td>0</td>\n",
       "      <td>0</td>\n",
       "      <td>0</td>\n",
       "      <td>0</td>\n",
       "      <td>0</td>\n",
       "      <td>0</td>\n",
       "      <td>0</td>\n",
       "      <td>unspecified</td>\n",
       "      <td>sedan</td>\n",
       "      <td>2020-11-09 09:45:00</td>\n",
       "      <td>other</td>\n",
       "      <td>following too closely</td>\n",
       "    </tr>\n",
       "  </tbody>\n",
       "</table>\n",
       "</div>"
      ],
      "text/plain": [
       "     BOROUGH                    ON STREET NAME  NUMBER OF PERSONS INJURED  \\\n",
       "12     BRONX  WEST 231 STREET                                           1   \n",
       "14  BROOKLYN  MANHATTAN AVENUE                                          0   \n",
       "16    QUEENS  222 STREET                                                0   \n",
       "\n",
       "    NUMBER OF PERSONS KILLED  NUMBER OF PEDESTRIANS INJURED  \\\n",
       "12                         0                              1   \n",
       "14                         0                              0   \n",
       "16                         0                              0   \n",
       "\n",
       "    NUMBER OF PEDESTRIANS KILLED  NUMBER OF CYCLIST INJURED  \\\n",
       "12                             0                          0   \n",
       "14                             0                          0   \n",
       "16                             0                          0   \n",
       "\n",
       "    NUMBER OF CYCLIST KILLED  NUMBER OF MOTORIST INJURED  \\\n",
       "12                         0                           0   \n",
       "14                         0                           0   \n",
       "16                         0                           0   \n",
       "\n",
       "    NUMBER OF MOTORIST KILLED CONTRIBUTING FACTOR VEHICLE 1  \\\n",
       "12                          0                   unspecified   \n",
       "14                          0                   unspecified   \n",
       "16                          0                   unspecified   \n",
       "\n",
       "   VEHICLE TYPE CODE 1          CRASH_TIME INVOLVED_VEHICLE  \\\n",
       "12           box truck 2020-11-18 09:37:00            truck   \n",
       "14          motorcycle 2020-11-09 11:50:00       motorcycle   \n",
       "16               sedan 2020-11-09 09:45:00            other   \n",
       "\n",
       "                             CAUSE  \n",
       "12                 other vehicular  \n",
       "14  driver inattention/distraction  \n",
       "16           following too closely  "
      ]
     },
     "execution_count": 106,
     "metadata": {},
     "output_type": "execute_result"
    }
   ],
   "source": [
    "data_without_na.head(3)"
   ]
  },
  {
   "cell_type": "markdown",
   "metadata": {},
   "source": [
    "Adding some features related to time."
   ]
  },
  {
   "cell_type": "code",
   "execution_count": 107,
   "metadata": {},
   "outputs": [],
   "source": [
    "data_without_na.loc[:,'collision_month'] = data_without_na['CRASH_TIME'].dt.month\n",
    "data_without_na.loc[:,'collision_day'] = data_without_na['CRASH_TIME'].dt.day\n",
    "data_without_na.loc[:,'collision_hour'] = data_without_na['CRASH_TIME'].dt.hour\n",
    "data_without_na.loc[:,'collision_weekday'] = data_without_na['CRASH_TIME'].dt.weekday\n",
    "# data_without_na['collision_weekend'] = data_without_na['collision_weekday'].apply(lambda x: 0 if x == 5 or x == 6 else 1)"
   ]
  },
  {
   "cell_type": "code",
   "execution_count": 108,
   "metadata": {},
   "outputs": [],
   "source": [
    "data_without_na.loc[:,'collision_month'] = data_without_na.loc[:,'collision_month'].astype(str)\n",
    "data_without_na.loc[:,'collision_day'] = data_without_na.loc[:,'collision_day'].astype(str)\n",
    "data_without_na.loc[:,'collision_hour'] = data_without_na.loc[:,'collision_hour'].astype(str)\n",
    "data_without_na.loc[:,'collision_weekday'] = data_without_na.loc[:,'collision_weekday'].astype(str)\n",
    "# data_without_na['collision_weekend'] = data_without_na['collision_weekend'].astype(str)"
   ]
  },
  {
   "cell_type": "code",
   "execution_count": 109,
   "metadata": {
    "scrolled": true
   },
   "outputs": [
    {
     "data": {
      "text/plain": [
       "BOROUGH                                  object\n",
       "ON STREET NAME                           object\n",
       "NUMBER OF PERSONS INJURED                 int64\n",
       "NUMBER OF PERSONS KILLED                  int64\n",
       "NUMBER OF PEDESTRIANS INJURED             int64\n",
       "NUMBER OF PEDESTRIANS KILLED              int64\n",
       "NUMBER OF CYCLIST INJURED                 int64\n",
       "NUMBER OF CYCLIST KILLED                  int64\n",
       "NUMBER OF MOTORIST INJURED                int64\n",
       "NUMBER OF MOTORIST KILLED                 int64\n",
       "CONTRIBUTING FACTOR VEHICLE 1            object\n",
       "VEHICLE TYPE CODE 1                      object\n",
       "CRASH_TIME                       datetime64[ns]\n",
       "INVOLVED_VEHICLE                         object\n",
       "CAUSE                                    object\n",
       "collision_month                          object\n",
       "collision_day                            object\n",
       "collision_hour                           object\n",
       "collision_weekday                        object\n",
       "dtype: object"
      ]
     },
     "execution_count": 109,
     "metadata": {},
     "output_type": "execute_result"
    }
   ],
   "source": [
    "data_without_na.dtypes"
   ]
  },
  {
   "cell_type": "code",
   "execution_count": 110,
   "metadata": {},
   "outputs": [],
   "source": [
    "data_without_na.rename(columns={'CONTRIBUTING FACTOR VEHICLE 1':'FACTOR',\n",
    "                                'VEHICLE TYPE CODE 1':'VEHICLE_TYPE',\n",
    "                                'ON STREET NAME':'STREET_NAME'},inplace=True)"
   ]
  },
  {
   "cell_type": "code",
   "execution_count": 111,
   "metadata": {},
   "outputs": [
    {
     "data": {
      "image/png": "[encoded data removed]",
      "text/plain": [
       "<Figure size 1440x720 with 9 Axes>"
      ]
     },
     "metadata": {
      "needs_background": "light"
     },
     "output_type": "display_data"
    }
   ],
   "source": [
    "data_without_na.hist(figsize=(20,10),bins=20);"
   ]
  },
  {
   "cell_type": "markdown",
   "metadata": {},
   "source": [
    "Merging _INJURED_ and _KILLED_ columns in order to add clarity"
   ]
  },
  {
   "cell_type": "code",
   "execution_count": 112,
   "metadata": {},
   "outputs": [],
   "source": [
    "data_without_na['KILLED'] = \\\n",
    "data_without_na['NUMBER OF PERSONS KILLED'] + \\\n",
    "data_without_na['NUMBER OF PEDESTRIANS KILLED'] + \\\n",
    "data_without_na['NUMBER OF CYCLIST KILLED'] + \\\n",
    "data_without_na['NUMBER OF MOTORIST KILLED']"
   ]
  },
  {
   "cell_type": "code",
   "execution_count": 113,
   "metadata": {},
   "outputs": [],
   "source": [
    "data_without_na['INJURED'] = \\\n",
    "data_without_na['NUMBER OF PERSONS INJURED'] + \\\n",
    "data_without_na['NUMBER OF PEDESTRIANS INJURED'] + \\\n",
    "data_without_na['NUMBER OF CYCLIST INJURED'] + \\\n",
    "data_without_na['NUMBER OF MOTORIST INJURED']"
   ]
  },
  {
   "cell_type": "code",
   "execution_count": 114,
   "metadata": {},
   "outputs": [],
   "source": [
    "data_without_na = data_without_na.drop(columns=[\n",
    "    'NUMBER OF PERSONS KILLED','NUMBER OF PEDESTRIANS KILLED','NUMBER OF CYCLIST KILLED',\n",
    "    'NUMBER OF MOTORIST KILLED', 'NUMBER OF PERSONS INJURED', 'NUMBER OF PEDESTRIANS INJURED',\n",
    "    'NUMBER OF CYCLIST INJURED', 'NUMBER OF MOTORIST INJURED'\n",
    "])"
   ]
  },
  {
   "cell_type": "code",
   "execution_count": 115,
   "metadata": {},
   "outputs": [
    {
     "data": {
      "image/png": "[encoded data removed]",
      "text/plain": [
       "<Figure size 720x360 with 1 Axes>"
      ]
     },
     "metadata": {
      "needs_background": "light"
     },
     "output_type": "display_data"
    }
   ],
   "source": [
    "data_without_na.reset_index().plot(kind='hist',y=['KILLED','INJURED'], x='index',figsize=(10,5));"
   ]
  },
  {
   "cell_type": "code",
   "execution_count": 116,
   "metadata": {
    "scrolled": true
   },
   "outputs": [
    {
     "name": "stdout",
     "output_type": "stream",
     "text": [
      "(938339, 13)\n"
     ]
    },
    {
     "data": {
      "text/plain": [
       "BOROUGH                      object\n",
       "STREET_NAME                  object\n",
       "FACTOR                       object\n",
       "VEHICLE_TYPE                 object\n",
       "CRASH_TIME           datetime64[ns]\n",
       "INVOLVED_VEHICLE             object\n",
       "CAUSE                        object\n",
       "collision_month              object\n",
       "collision_day                object\n",
       "collision_hour               object\n",
       "collision_weekday            object\n",
       "KILLED                        int64\n",
       "INJURED                       int64\n",
       "dtype: object"
      ]
     },
     "execution_count": 116,
     "metadata": {},
     "output_type": "execute_result"
    }
   ],
   "source": [
    "print(data_without_na.shape)\n",
    "data_without_na.dtypes"
   ]
  },
  {
   "cell_type": "markdown",
   "metadata": {},
   "source": [
    "Dropping CRASH_TIME column"
   ]
  },
  {
   "cell_type": "code",
   "execution_count": 117,
   "metadata": {},
   "outputs": [],
   "source": [
    "data_without_na = data_without_na.drop(columns='CRASH_TIME')"
   ]
  },
  {
   "cell_type": "code",
   "execution_count": 118,
   "metadata": {},
   "outputs": [],
   "source": [
    "categorical_columns = ['BOROUGH',\n",
    "                       'STREET_NAME',\n",
    "                       'FACTOR',\n",
    "                       'VEHICLE_TYPE',\n",
    "                       'INVOLVED_VEHICLE',\n",
    "                       'CAUSE',\n",
    "#                        'collision_month',\n",
    "#                        'collision_day',\n",
    "#                        'collision_hour',\n",
    "#                        'collision_weekday',\n",
    "#                        'collision_weekend'\n",
    "                      ]\n",
    "\n",
    "numerical_columns = ['INJURED',\n",
    "                     'KILLED'\n",
    "                    ]"
   ]
  },
  {
   "cell_type": "code",
   "execution_count": 120,
   "metadata": {},
   "outputs": [],
   "source": [
    "for col in categorical_columns:\n",
    "    data_without_na[col] = data_without_na[col].astype('category')"
   ]
  },
  {
   "cell_type": "code",
   "execution_count": 122,
   "metadata": {},
   "outputs": [],
   "source": [
    "for col in [\n",
    "    'collision_month',\n",
    "    'collision_day',\n",
    "    'collision_hour',\n",
    "    'collision_weekday'\n",
    "]:\n",
    "    data_without_na[col] = data_without_na[col].astype('int')"
   ]
  },
  {
   "cell_type": "code",
   "execution_count": 123,
   "metadata": {},
   "outputs": [
    {
     "name": "stdout",
     "output_type": "stream",
     "text": [
      "<class 'pandas.core.frame.DataFrame'>\n",
      "Int64Index: 938339 entries, 12 to 1530134\n",
      "Data columns (total 12 columns):\n",
      " #   Column             Non-Null Count   Dtype   \n",
      "---  ------             --------------   -----   \n",
      " 0   BOROUGH            938339 non-null  category\n",
      " 1   STREET_NAME        938339 non-null  category\n",
      " 2   FACTOR             938339 non-null  category\n",
      " 3   VEHICLE_TYPE       938339 non-null  category\n",
      " 4   INVOLVED_VEHICLE   938339 non-null  category\n",
      " 5   CAUSE              938339 non-null  category\n",
      " 6   collision_month    938339 non-null  int64   \n",
      " 7   collision_day      938339 non-null  int64   \n",
      " 8   collision_hour     938339 non-null  int64   \n",
      " 9   collision_weekday  938339 non-null  int64   \n",
      " 10  KILLED             938339 non-null  int64   \n",
      " 11  INJURED            938339 non-null  int64   \n",
      "dtypes: category(6), int64(6)\n",
      "memory usage: 57.7 MB\n"
     ]
    }
   ],
   "source": [
    "data_without_na.info()"
   ]
  },
  {
   "cell_type": "markdown",
   "metadata": {},
   "source": [
    "## A \"final\" note <a id='final_note'></a>\n",
    "[Back to top](#table_of_contents)"
   ]
  },
  {
   "cell_type": "markdown",
   "metadata": {},
   "source": [
    "At this point, with a slightly different dataset I wanted to build a prediction model but my local Linux virtual machine proved a bit too limited causing the notebook kernel death after several attempts.\n",
    "\n",
    "I decided to plot the reworked data to see if common assumptions are correct... and they are, indeed!\n",
    "\n",
    "_NOTE: below data related to all 2020_"
   ]
  },
  {
   "cell_type": "code",
   "execution_count": 134,
   "metadata": {},
   "outputs": [
    {
     "data": {
      "image/png": "[encoded data removed]",
      "text/plain": [
       "<Figure size 1440x720 with 1 Axes>"
      ]
     },
     "metadata": {
      "needs_background": "light"
     },
     "output_type": "display_data"
    }
   ],
   "source": [
    "pd.DataFrame(data_without_na.collision_weekday.value_counts()).reset_index().sort_values('index',ascending=False)\\\n",
    ".plot(y='collision_weekday',x='index',kind='barh',figsize=(20,10));"
   ]
  },
  {
   "cell_type": "markdown",
   "metadata": {},
   "source": [
    "_Friday (4) is indeed the most the dangerous day, followed by Thursday (3) and Tuesday (1)._"
   ]
  },
  {
   "cell_type": "code",
   "execution_count": 125,
   "metadata": {
    "scrolled": false
   },
   "outputs": [
    {
     "data": {
      "image/png": "[encoded data removed]",
      "text/plain": [
       "<Figure size 1440x720 with 1 Axes>"
      ]
     },
     "metadata": {
      "needs_background": "light"
     },
     "output_type": "display_data"
    }
   ],
   "source": [
    "pd.DataFrame(data_without_na.collision_hour.value_counts()).reset_index().sort_values('index')\\\n",
    ".plot(y='collision_hour',x='index',kind='bar',figsize=(20,10));"
   ]
  },
  {
   "cell_type": "markdown",
   "metadata": {},
   "source": [
    "_Indeed, between 8 and 9 AM, and again between 4 and 5 PM a lot of collisions take place._"
   ]
  },
  {
   "cell_type": "code",
   "execution_count": 136,
   "metadata": {},
   "outputs": [
    {
     "data": {
      "image/png": "[encoded data removed]",
      "text/plain": [
       "<Figure size 1440x720 with 1 Axes>"
      ]
     },
     "metadata": {
      "needs_background": "light"
     },
     "output_type": "display_data"
    }
   ],
   "source": [
    "pd.DataFrame(data_without_na.collision_month.value_counts()).reset_index().sort_values('index',ascending=False)\\\n",
    ".plot(y='collision_month',x='index',kind='barh',figsize=(20,10));"
   ]
  },
  {
   "cell_type": "markdown",
   "metadata": {},
   "source": [
    "_The craziest months are July (7) and October (10), in general the 2H of the year seems to be the busiest._"
   ]
  },
  {
   "cell_type": "markdown",
   "metadata": {},
   "source": [
    "#### _Below I am evaluating a subset of the data, only those datapoints where 1 or more persons were killed._"
   ]
  },
  {
   "cell_type": "code",
   "execution_count": 127,
   "metadata": {},
   "outputs": [
    {
     "data": {
      "image/png": "[encoded data removed]",
      "text/plain": [
       "<Figure size 1440x720 with 1 Axes>"
      ]
     },
     "metadata": {
      "needs_background": "light"
     },
     "output_type": "display_data"
    }
   ],
   "source": [
    "pd.DataFrame(data_without_na[data_without_na.KILLED>=1].collision_month.value_counts()).reset_index().sort_values('index')\\\n",
    ".plot(y='collision_month',x='index',kind='bar',figsize=(20,10));"
   ]
  },
  {
   "cell_type": "markdown",
   "metadata": {},
   "source": [
    "_July (7), August (8) and September (9) seem to be the deadliest months of the year._"
   ]
  },
  {
   "cell_type": "code",
   "execution_count": 128,
   "metadata": {},
   "outputs": [
    {
     "data": {
      "image/png": "[encoded data removed]",
      "text/plain": [
       "<Figure size 1440x720 with 1 Axes>"
      ]
     },
     "metadata": {
      "needs_background": "light"
     },
     "output_type": "display_data"
    }
   ],
   "source": [
    "pd.DataFrame(data_without_na[data_without_na.KILLED>=1].collision_weekday.value_counts()).reset_index().sort_values('index')\\\n",
    ".plot(y='collision_weekday',x='index',kind='bar',figsize=(20,10));"
   ]
  },
  {
   "cell_type": "markdown",
   "metadata": {},
   "source": [
    "_Friday (4) is the most dangerous._"
   ]
  },
  {
   "cell_type": "code",
   "execution_count": 139,
   "metadata": {},
   "outputs": [
    {
     "data": {
      "image/png": "[encoded data removed]",
      "text/plain": [
       "<Figure size 1440x720 with 1 Axes>"
      ]
     },
     "metadata": {
      "needs_background": "light"
     },
     "output_type": "display_data"
    }
   ],
   "source": [
    "pd.DataFrame(data_without_na[data_without_na.KILLED>=1].collision_hour.value_counts())\\\n",
    ".reset_index()\\\n",
    ".sort_values('index')\\\n",
    ".plot(y='collision_hour',x='index',kind='bar',figsize=(20,10));"
   ]
  },
  {
   "cell_type": "markdown",
   "metadata": {},
   "source": [
    "_More chances of being involved in a deadly collision around 5 PM, and later in the evening._"
   ]
  }
 ],
 "metadata": {
  "kernelspec": {
   "display_name": "Python 3",
   "language": "python",
   "name": "python3"
  },
  "language_info": {
   "codemirror_mode": {
    "name": "ipython",
    "version": 3
   },
   "file_extension": ".py",
   "mimetype": "text/x-python",
   "name": "python",
   "nbconvert_exporter": "python",
   "pygments_lexer": "ipython3",
   "version": "3.9.0"
  }
 },
 "nbformat": 4,
 "nbformat_minor": 4
}
